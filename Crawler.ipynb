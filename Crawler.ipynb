{
 "cells": [
  {
   "cell_type": "code",
   "execution_count": 2,
   "metadata": {},
   "outputs": [],
   "source": [
    "from urllib.request import urlopen\n",
    "from urllib.error import HTTPError\n",
    "from urllib.error import URLError\n",
    "from bs4 import BeautifulSoup"
   ]
  },
  {
   "cell_type": "code",
   "execution_count": 3,
   "metadata": {},
   "outputs": [
    {
     "name": "stdout",
     "output_type": "stream",
     "text": [
      "Funcionou!\n"
     ]
    }
   ],
   "source": [
    "try:\n",
    "    html = urlopen(\"http://127.0.0.1:8000/places/default/index\")\n",
    "except HTTPError as e:\n",
    "    print(\"Deu pau no servidor\")\n",
    "except URLError as e:\n",
    "    print(\"Servidor não ta on cotoco\")\n",
    "else:\n",
    "    print(\"Funcionou!\")"
   ]
  },
  {
   "cell_type": "code",
   "execution_count": 4,
   "metadata": {},
   "outputs": [
    {
     "name": "stdout",
     "output_type": "stream",
     "text": [
      "#\n",
      "/places/default/user/register?_next=/places/default/index\n",
      "/places/default/user/login?_next=/places/default/index\n",
      "/places/default/index\n",
      "/places/default/search\n",
      "/places/default/view/Afghanistan-1\n",
      "/places/default/view/Aland-Islands-2\n",
      "/places/default/view/Albania-3\n",
      "/places/default/view/Algeria-4\n",
      "/places/default/view/American-Samoa-5\n",
      "/places/default/view/Andorra-6\n",
      "/places/default/view/Angola-7\n",
      "/places/default/view/Anguilla-8\n",
      "/places/default/view/Antarctica-9\n",
      "/places/default/view/Antigua-and-Barbuda-10\n",
      "/places/default/index/1\n"
     ]
    }
   ],
   "source": [
    "bs = BeautifulSoup(html, 'html.parser')\n",
    "for link in bs.find_all('a'):\n",
    "    if 'href' in link.attrs:\n",
    "        print(link.attrs['href'])"
   ]
  },
  {
   "cell_type": "code",
   "execution_count": null,
   "metadata": {},
   "outputs": [],
   "source": []
  }
 ],
 "metadata": {
  "kernelspec": {
   "display_name": "base",
   "language": "python",
   "name": "python3"
  },
  "language_info": {
   "codemirror_mode": {
    "name": "ipython",
    "version": 3
   },
   "file_extension": ".py",
   "mimetype": "text/x-python",
   "name": "python",
   "nbconvert_exporter": "python",
   "pygments_lexer": "ipython3",
   "version": "3.12.2"
  }
 },
 "nbformat": 4,
 "nbformat_minor": 2
}
