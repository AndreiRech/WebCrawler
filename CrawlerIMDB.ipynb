{
 "cells": [
  {
   "cell_type": "markdown",
   "metadata": {},
   "source": [
    "## ATIVIDADE 2 - Web Scraping no site IMDB"
   ]
  },
  {
   "cell_type": "markdown",
   "metadata": {},
   "source": [
    "Importações de **bibliotecas** utilizadas"
   ]
  },
  {
   "cell_type": "code",
   "execution_count": 1,
   "metadata": {},
   "outputs": [],
   "source": [
    "from selenium import webdriver\n",
    "from selenium.webdriver.common.by import By\n",
    "import selenium\n",
    "import pandas as pd\n",
    "import json"
   ]
  },
  {
   "cell_type": "markdown",
   "metadata": {},
   "source": [
    "Definição de qual **driver** será utilizado. Se necessário, mude conforme seu navegador."
   ]
  },
  {
   "cell_type": "code",
   "execution_count": 2,
   "metadata": {},
   "outputs": [],
   "source": [
    "# driver = webdriver.Chrome()\n",
    "driver = webdriver.Firefox()"
   ]
  },
  {
   "cell_type": "markdown",
   "metadata": {},
   "source": [
    "## Entrando na Página\n",
    "\n",
    "Utilizaremos o driver para acessarmos a página do **IMDB**, acessar seu *menu* e assim chegar no **Calendário de lançamentos**"
   ]
  },
  {
   "cell_type": "code",
   "execution_count": 3,
   "metadata": {},
   "outputs": [],
   "source": [
    "driver.get(\"https://www.imdb.com\")"
   ]
  },
  {
   "cell_type": "code",
   "execution_count": 4,
   "metadata": {},
   "outputs": [],
   "source": [
    "menu = driver.find_element(By.XPATH,r'//*[@id=\"imdbHeader-navDrawerOpen\"]') \n",
    "menu.click()"
   ]
  },
  {
   "cell_type": "code",
   "execution_count": 7,
   "metadata": {},
   "outputs": [],
   "source": [
    "calendario = driver.find_element(By.LINK_TEXT, r'Calendário de lançamento')"
   ]
  },
  {
   "cell_type": "code",
   "execution_count": 8,
   "metadata": {},
   "outputs": [],
   "source": [
    "url = calendario.get_attribute(\"href\")\n",
    "driver.get(url)"
   ]
  },
  {
   "cell_type": "markdown",
   "metadata": {},
   "source": [
    "## Pegando os Elementos\n",
    "\n",
    "Agora, dentro da página escolhida, pegaremos os valores que precisamos"
   ]
  },
  {
   "cell_type": "code",
   "execution_count": 9,
   "metadata": {},
   "outputs": [],
   "source": [
    "tag = driver.find_elements(By.CLASS_NAME, 'ipc-metadata-list-summary-item')"
   ]
  },
  {
   "cell_type": "markdown",
   "metadata": {},
   "source": [
    "Listando todos os filmes presentes dentro da tag que contém os mesmos"
   ]
  },
  {
   "cell_type": "code",
   "execution_count": 10,
   "metadata": {},
   "outputs": [
    {
     "name": "stdout",
     "output_type": "stream",
     "text": [
      "Longlegs: Vínculo Mortal (2024)\n",
      "Afraid (2024)\n",
      "Sting: Aranha Assassina (2024)\n",
      "A Caça (2024)\n",
      "Estômago II: O Poderoso Chef (2024)\n",
      "Cidade; Campo (2024)\n",
      "Os Fantasmas Ainda se Divertem - Beetlejuice Beetlejuice (2024)\n",
      "Kill - O Massacre no Trem (2023)\n",
      "O Menino e o Mestre (2023)\n",
      "Corrida Maluca (2023)\n",
      "Vovó Ninja (2024)\n",
      "Não Fale o Mal (2024)\n",
      "Transformers: O Início (2024)\n",
      "Meu Amigo Pinguim (2024)\n",
      "O Bastardo (2023)\n",
      "Ligação Sombria (2023)\n",
      "Silvio (2024)\n",
      "Un silence (2023)\n",
      "Meu Casulo de Drywall (2023)\n",
      "A Forja: O Poder da Transformação (2024)\n",
      "Hellboy e o Homem Torto (2024)\n",
      "Golpe de Sorte em Paris (2023)\n",
      "Passagrana (2024)\n",
      "Saudade fez Morada aqui Dentro (2022)\n",
      "Robô Selvagem (2024)\n",
      "Coringa: Delírio a Dois (2024)\n",
      "Não Solte! (2024)\n",
      "Infestação (2023)\n",
      "A Garota da Vez (2023)\n",
      "Pássaro Branco: Uma História de Extraordinário (2023)\n",
      "A Menina e o Dragão (2024)\n",
      "Força Bruta: Sem Saída (2023)\n",
      "Tudo Por Um Pop Star 2 (2024)\n",
      "Sorria 2 (2024)\n",
      "O Aprendiz (2024)\n",
      "Super/Man: A História de Christopher Reeve (2024)\n",
      "Perfekta: Uma Aventura da Escola de Gênios (2024)\n",
      "Venom: A Última Rodada (2024)\n",
      "Ainda Somos os Mesmos (2024)\n",
      "Megalópolis (2024)\n",
      "Terrifier 3 (2024)\n",
      "Todo Tempo que Temos (2024)\n",
      "Anora (2024)\n",
      "Ameaça no Ar (2024)\n",
      "Lubo (2023)\n",
      "A Vilã das Nove (2024)\n",
      "Arca de Noé (2024)\n",
      "Inexplicável (2024)\n",
      "Gladiador II (2024)\n",
      "As Polacas (2023)\n",
      "Herege (2024)\n",
      "Moana 2 (2024)\n",
      "Wicked (2024)\n",
      "Here (2024)\n",
      "A Complete Unknown (2024)\n",
      "O Conde de Monte Cristo (2024)\n",
      "Conclave (2024)\n",
      "In the Lost Lands (2024)\n",
      "O Senhor dos Anéis: A Guerra dos Rohirrim (2024)\n",
      "Kraven, o Caçador (2024)\n",
      "Mufasa: O Rei Leão (2024)\n",
      "Lee (2023)\n",
      "O Auto da Compadecida 2 (2024)\n",
      "Chico Bento e a Goiabeira Maraviósa (2025)\n",
      "Babygirl (2024)\n",
      "Paddington 3 (2024)\n",
      "Armored (2024)\n",
      "MMA: Meu Melhor Amigo (2025)\n",
      "A Verdadeira Dor (2024)\n",
      "Mickey 17 (2025)\n",
      "Emilia Pérez (2024)\n",
      "Capitão América: Admirável Mundo Novo (2025)\n",
      "O Macaco (2025)\n",
      "Novocaine (2025)\n",
      "Branca de Neve (2025)\n",
      "Amateur (2025)\n",
      "Michael (2025)\n",
      "Thunderbolts* (2025)\n",
      "Missão: Impossível 8 (2025)\n",
      "Karate Kid (2025)\n",
      "F1 (2025)\n",
      "Animal Friends (2025)\n"
     ]
    }
   ],
   "source": [
    "for filme in tag:\n",
    "    print(filme.find_element(By.CLASS_NAME, 'ipc-metadata-list-summary-item__t').text)"
   ]
  },
  {
   "cell_type": "markdown",
   "metadata": {},
   "source": [
    "### Definindo Funções\n",
    "\n",
    "Funções tanto para extrair as informações dos filmes - *nome, data de lançamento, gênero e link de sua página* - e também do cast que está envolvido - *diretor e atores principais*"
   ]
  },
  {
   "cell_type": "code",
   "execution_count": 11,
   "metadata": {},
   "outputs": [],
   "source": [
    "def extract_titulos(filme):\n",
    "    nome = filme.find_element(By.CSS_SELECTOR, 'a.ipc-metadata-list-summary-item__t')\n",
    "    return nome.text\n",
    "\n",
    "def extract_data_lancamento(sessao):\n",
    "    nome = sessao.find_element(By.CSS_SELECTOR, 'h3.ipc-title__text')\n",
    "    return nome.text\n",
    "\n",
    "def extract_generos(filme):\n",
    "    generos = filme.find_elements(By.CSS_SELECTOR, 'ul.ipc-inline-list--show-dividers.ipc-metadata-list-summary-item__tl li')\n",
    "    return [g.text for g in generos]\n",
    "\n",
    "def extract_links(filme, lista):\n",
    "    nome = filme.find_element(By.CSS_SELECTOR, 'a.ipc-metadata-list-summary-item__t')\n",
    "    link = nome.get_attribute('href')\n",
    "    lista.append(link)\n",
    "    \n",
    "    return link"
   ]
  },
  {
   "cell_type": "code",
   "execution_count": 12,
   "metadata": {},
   "outputs": [],
   "source": [
    "def extract_filmes_info():\n",
    "    global filmes_links\n",
    "    filmes_links = []\n",
    "    filmes_lista = []\n",
    "    \n",
    "    sections = driver.find_elements(By.CSS_SELECTOR, 'article[data-testid=\"calendar-section\"]')\n",
    "    \n",
    "    for section in sections:\n",
    "        data = extract_data_lancamento(section)\n",
    "        \n",
    "        filmes = section.find_elements(By.CSS_SELECTOR, 'li[data-testid=\"coming-soon-entry\"]')\n",
    "        \n",
    "        for filme in filmes:\n",
    "            filme_info = {}\n",
    "            filme_info['Título'] = extract_titulos(filme)\n",
    "            filme_info['Link'] = extract_links(filme, filmes_links)\n",
    "            filme_info['Gêneros'] = extract_generos(filme)\n",
    "            filme_info['Data de lançamento'] = data\n",
    "            \n",
    "            filmes_lista.append(filme_info)\n",
    "    \n",
    "    return filmes_lista"
   ]
  },
  {
   "cell_type": "code",
   "execution_count": 13,
   "metadata": {},
   "outputs": [],
   "source": [
    "def extract_ator_diretor(aux, link):\n",
    "    driver.get(link)\n",
    "\n",
    "    diretor = driver.find_element(By.CSS_SELECTOR, '.ipc-metadata-list-item__list-content-item.ipc-metadata-list-item__list-content-item--link')\n",
    "    ator = driver.find_elements(By.CSS_SELECTOR, 'a[data-testid=\"title-cast-item__actor\"]')\n",
    "    \n",
    "    atores = [a.text for a in ator]\n",
    "\n",
    "    aux.append(diretor.text)\n",
    "    aux.append(atores)\n",
    "\n",
    "    return aux"
   ]
  },
  {
   "cell_type": "markdown",
   "metadata": {},
   "source": [
    "### Chamando as Funções e Salvando em um JSON"
   ]
  },
  {
   "cell_type": "code",
   "execution_count": 14,
   "metadata": {},
   "outputs": [
    {
     "data": {
      "text/html": [
       "<div>\n",
       "<style scoped>\n",
       "    .dataframe tbody tr th:only-of-type {\n",
       "        vertical-align: middle;\n",
       "    }\n",
       "\n",
       "    .dataframe tbody tr th {\n",
       "        vertical-align: top;\n",
       "    }\n",
       "\n",
       "    .dataframe thead th {\n",
       "        text-align: right;\n",
       "    }\n",
       "</style>\n",
       "<table border=\"1\" class=\"dataframe\">\n",
       "  <thead>\n",
       "    <tr style=\"text-align: right;\">\n",
       "      <th></th>\n",
       "      <th>Título</th>\n",
       "      <th>Link</th>\n",
       "      <th>Gêneros</th>\n",
       "      <th>Data de lançamento</th>\n",
       "    </tr>\n",
       "  </thead>\n",
       "  <tbody>\n",
       "    <tr>\n",
       "      <th>0</th>\n",
       "      <td>Longlegs: Vínculo Mortal (2024)</td>\n",
       "      <td>https://www.imdb.com/title/tt23468450/?ref_=rlm</td>\n",
       "      <td>[Policial, Terror, Suspense]</td>\n",
       "      <td>29 de ago. de 2024</td>\n",
       "    </tr>\n",
       "    <tr>\n",
       "      <th>1</th>\n",
       "      <td>Afraid (2024)</td>\n",
       "      <td>https://www.imdb.com/title/tt24577462/?ref_=rlm</td>\n",
       "      <td>[Terror, Mistério, Ficção científica]</td>\n",
       "      <td>29 de ago. de 2024</td>\n",
       "    </tr>\n",
       "    <tr>\n",
       "      <th>2</th>\n",
       "      <td>Sting: Aranha Assassina (2024)</td>\n",
       "      <td>https://www.imdb.com/title/tt20112746/?ref_=rlm</td>\n",
       "      <td>[Terror, Ficção científica, Suspense]</td>\n",
       "      <td>29 de ago. de 2024</td>\n",
       "    </tr>\n",
       "    <tr>\n",
       "      <th>3</th>\n",
       "      <td>A Caça (2024)</td>\n",
       "      <td>https://www.imdb.com/title/tt22493538/?ref_=rlm</td>\n",
       "      <td>[Terror, Suspense]</td>\n",
       "      <td>29 de ago. de 2024</td>\n",
       "    </tr>\n",
       "    <tr>\n",
       "      <th>4</th>\n",
       "      <td>Estômago II: O Poderoso Chef (2024)</td>\n",
       "      <td>https://www.imdb.com/title/tt28281591/?ref_=rlm</td>\n",
       "      <td>[Comédia, Policial, Drama]</td>\n",
       "      <td>29 de ago. de 2024</td>\n",
       "    </tr>\n",
       "    <tr>\n",
       "      <th>...</th>\n",
       "      <td>...</td>\n",
       "      <td>...</td>\n",
       "      <td>...</td>\n",
       "      <td>...</td>\n",
       "    </tr>\n",
       "    <tr>\n",
       "      <th>77</th>\n",
       "      <td>Thunderbolts* (2025)</td>\n",
       "      <td>https://www.imdb.com/title/tt20969586/?ref_=rlm</td>\n",
       "      <td>[Ação, Aventura, Policial]</td>\n",
       "      <td>02 de mai. de 2025</td>\n",
       "    </tr>\n",
       "    <tr>\n",
       "      <th>78</th>\n",
       "      <td>Missão: Impossível 8 (2025)</td>\n",
       "      <td>https://www.imdb.com/title/tt9603208/?ref_=rlm</td>\n",
       "      <td>[Ação, Aventura, Suspense]</td>\n",
       "      <td>22 de mai. de 2025</td>\n",
       "    </tr>\n",
       "    <tr>\n",
       "      <th>79</th>\n",
       "      <td>Karate Kid (2025)</td>\n",
       "      <td>https://www.imdb.com/title/tt1674782/?ref_=rlm</td>\n",
       "      <td>[Ação, Drama, Família]</td>\n",
       "      <td>30 de mai. de 2025</td>\n",
       "    </tr>\n",
       "    <tr>\n",
       "      <th>80</th>\n",
       "      <td>F1 (2025)</td>\n",
       "      <td>https://www.imdb.com/title/tt16311594/?ref_=rlm</td>\n",
       "      <td>[Drama, Esportes]</td>\n",
       "      <td>26 de jun. de 2025</td>\n",
       "    </tr>\n",
       "    <tr>\n",
       "      <th>81</th>\n",
       "      <td>Animal Friends (2025)</td>\n",
       "      <td>https://www.imdb.com/title/tt16911616/?ref_=rlm</td>\n",
       "      <td>[Animação, Ação, Aventura]</td>\n",
       "      <td>14 de ago. de 2025</td>\n",
       "    </tr>\n",
       "  </tbody>\n",
       "</table>\n",
       "<p>82 rows × 4 columns</p>\n",
       "</div>"
      ],
      "text/plain": [
       "                                 Título  \\\n",
       "0       Longlegs: Vínculo Mortal (2024)   \n",
       "1                         Afraid (2024)   \n",
       "2        Sting: Aranha Assassina (2024)   \n",
       "3                         A Caça (2024)   \n",
       "4   Estômago II: O Poderoso Chef (2024)   \n",
       "..                                  ...   \n",
       "77                 Thunderbolts* (2025)   \n",
       "78          Missão: Impossível 8 (2025)   \n",
       "79                    Karate Kid (2025)   \n",
       "80                            F1 (2025)   \n",
       "81                Animal Friends (2025)   \n",
       "\n",
       "                                               Link  \\\n",
       "0   https://www.imdb.com/title/tt23468450/?ref_=rlm   \n",
       "1   https://www.imdb.com/title/tt24577462/?ref_=rlm   \n",
       "2   https://www.imdb.com/title/tt20112746/?ref_=rlm   \n",
       "3   https://www.imdb.com/title/tt22493538/?ref_=rlm   \n",
       "4   https://www.imdb.com/title/tt28281591/?ref_=rlm   \n",
       "..                                              ...   \n",
       "77  https://www.imdb.com/title/tt20969586/?ref_=rlm   \n",
       "78   https://www.imdb.com/title/tt9603208/?ref_=rlm   \n",
       "79   https://www.imdb.com/title/tt1674782/?ref_=rlm   \n",
       "80  https://www.imdb.com/title/tt16311594/?ref_=rlm   \n",
       "81  https://www.imdb.com/title/tt16911616/?ref_=rlm   \n",
       "\n",
       "                                  Gêneros  Data de lançamento  \n",
       "0            [Policial, Terror, Suspense]  29 de ago. de 2024  \n",
       "1   [Terror, Mistério, Ficção científica]  29 de ago. de 2024  \n",
       "2   [Terror, Ficção científica, Suspense]  29 de ago. de 2024  \n",
       "3                      [Terror, Suspense]  29 de ago. de 2024  \n",
       "4              [Comédia, Policial, Drama]  29 de ago. de 2024  \n",
       "..                                    ...                 ...  \n",
       "77             [Ação, Aventura, Policial]  02 de mai. de 2025  \n",
       "78             [Ação, Aventura, Suspense]  22 de mai. de 2025  \n",
       "79                 [Ação, Drama, Família]  30 de mai. de 2025  \n",
       "80                      [Drama, Esportes]  26 de jun. de 2025  \n",
       "81             [Animação, Ação, Aventura]  14 de ago. de 2025  \n",
       "\n",
       "[82 rows x 4 columns]"
      ]
     },
     "metadata": {},
     "output_type": "display_data"
    }
   ],
   "source": [
    "filmes = extract_filmes_info()   \n",
    "\n",
    "df_filmes = pd.DataFrame(filmes)\n",
    "display(df_filmes)"
   ]
  },
  {
   "cell_type": "code",
   "execution_count": 16,
   "metadata": {},
   "outputs": [],
   "source": [
    "info = []\n",
    "for link in filmes_links:\n",
    "    aux = []\n",
    "    info.append(extract_ator_diretor(aux, link))\n",
    "    \n",
    "    if (len(info) == 82):\n",
    "        break"
   ]
  },
  {
   "cell_type": "code",
   "execution_count": 17,
   "metadata": {},
   "outputs": [
    {
     "data": {
      "text/html": [
       "<div>\n",
       "<style scoped>\n",
       "    .dataframe tbody tr th:only-of-type {\n",
       "        vertical-align: middle;\n",
       "    }\n",
       "\n",
       "    .dataframe tbody tr th {\n",
       "        vertical-align: top;\n",
       "    }\n",
       "\n",
       "    .dataframe thead th {\n",
       "        text-align: right;\n",
       "    }\n",
       "</style>\n",
       "<table border=\"1\" class=\"dataframe\">\n",
       "  <thead>\n",
       "    <tr style=\"text-align: right;\">\n",
       "      <th></th>\n",
       "      <th>0</th>\n",
       "      <th>1</th>\n",
       "    </tr>\n",
       "  </thead>\n",
       "  <tbody>\n",
       "    <tr>\n",
       "      <th>0</th>\n",
       "      <td>Osgood Perkins</td>\n",
       "      <td>[Maika Monroe, Nicolas Cage, Blair Underwood, ...</td>\n",
       "    </tr>\n",
       "    <tr>\n",
       "      <th>1</th>\n",
       "      <td>Chris Weitz</td>\n",
       "      <td>[John Cho, Katherine Waterston, Keith Carradin...</td>\n",
       "    </tr>\n",
       "    <tr>\n",
       "      <th>2</th>\n",
       "      <td>Kiah Roache-Turner</td>\n",
       "      <td>[Noni Hazlehurst, Jermaine Fowler, Alyla Brown...</td>\n",
       "    </tr>\n",
       "    <tr>\n",
       "      <th>3</th>\n",
       "      <td>Louis Lagayette</td>\n",
       "      <td>[Lily Banda, Alec Newman, Kostis Kallivretakis...</td>\n",
       "    </tr>\n",
       "    <tr>\n",
       "      <th>4</th>\n",
       "      <td>Marcos Jorge</td>\n",
       "      <td>[Alessandro Andolfo, Giulio Beranek, Francesco...</td>\n",
       "    </tr>\n",
       "    <tr>\n",
       "      <th>...</th>\n",
       "      <td>...</td>\n",
       "      <td>...</td>\n",
       "    </tr>\n",
       "    <tr>\n",
       "      <th>77</th>\n",
       "      <td>Jake Schreier</td>\n",
       "      <td>[Florence Pugh, Lewis Pullman, Olga Kurylenko,...</td>\n",
       "    </tr>\n",
       "    <tr>\n",
       "      <th>78</th>\n",
       "      <td>Christopher McQuarrie</td>\n",
       "      <td>[Tom Cruise, Vanessa Kirby, Katy O'Brian, Hayl...</td>\n",
       "    </tr>\n",
       "    <tr>\n",
       "      <th>79</th>\n",
       "      <td>Jonathan Entwistle</td>\n",
       "      <td>[Joshua Jackson, Jackie Chan, Ralph Macchio, M...</td>\n",
       "    </tr>\n",
       "    <tr>\n",
       "      <th>80</th>\n",
       "      <td>Joseph Kosinski</td>\n",
       "      <td>[Brad Pitt, Kerry Condon, Tobias Menzies, Javi...</td>\n",
       "    </tr>\n",
       "    <tr>\n",
       "      <th>81</th>\n",
       "      <td>Peter Atencio</td>\n",
       "      <td>[Ryan Reynolds, Aubrey Plaza, Jason Momoa, Dan...</td>\n",
       "    </tr>\n",
       "  </tbody>\n",
       "</table>\n",
       "<p>82 rows × 2 columns</p>\n",
       "</div>"
      ],
      "text/plain": [
       "                        0                                                  1\n",
       "0          Osgood Perkins  [Maika Monroe, Nicolas Cage, Blair Underwood, ...\n",
       "1             Chris Weitz  [John Cho, Katherine Waterston, Keith Carradin...\n",
       "2      Kiah Roache-Turner  [Noni Hazlehurst, Jermaine Fowler, Alyla Brown...\n",
       "3         Louis Lagayette  [Lily Banda, Alec Newman, Kostis Kallivretakis...\n",
       "4            Marcos Jorge  [Alessandro Andolfo, Giulio Beranek, Francesco...\n",
       "..                    ...                                                ...\n",
       "77          Jake Schreier  [Florence Pugh, Lewis Pullman, Olga Kurylenko,...\n",
       "78  Christopher McQuarrie  [Tom Cruise, Vanessa Kirby, Katy O'Brian, Hayl...\n",
       "79     Jonathan Entwistle  [Joshua Jackson, Jackie Chan, Ralph Macchio, M...\n",
       "80        Joseph Kosinski  [Brad Pitt, Kerry Condon, Tobias Menzies, Javi...\n",
       "81          Peter Atencio  [Ryan Reynolds, Aubrey Plaza, Jason Momoa, Dan...\n",
       "\n",
       "[82 rows x 2 columns]"
      ]
     },
     "metadata": {},
     "output_type": "display_data"
    }
   ],
   "source": [
    "df_cast = pd.DataFrame(info)\n",
    "display(df_cast)"
   ]
  },
  {
   "cell_type": "markdown",
   "metadata": {},
   "source": [
    "### Transformando em JSON\n",
    "\n",
    "Agora, combinaremos as duas listas em somente um dicionário e colocaremos ele dentro de um JSON"
   ]
  },
  {
   "cell_type": "code",
   "execution_count": 18,
   "metadata": {},
   "outputs": [],
   "source": [
    "df_filmes['Diretor'] = df_cast[0].values\n",
    "df_filmes['Atores'] = df_cast[1].values"
   ]
  },
  {
   "cell_type": "code",
   "execution_count": 21,
   "metadata": {},
   "outputs": [],
   "source": [
    "filmes_dict = df_filmes.to_dict(orient='records')\n",
    "filmes_json = json.dumps(filmes_dict, indent=4, ensure_ascii=False)\n",
    "\n",
    "with open('Filmes.json', 'w', encoding='utf-8') as arquivo:\n",
    "    arquivo.write(filmes_json)"
   ]
  }
 ],
 "metadata": {
  "kernelspec": {
   "display_name": "Python 3",
   "language": "python",
   "name": "python3"
  },
  "language_info": {
   "codemirror_mode": {
    "name": "ipython",
    "version": 3
   },
   "file_extension": ".py",
   "mimetype": "text/x-python",
   "name": "python",
   "nbconvert_exporter": "python",
   "pygments_lexer": "ipython3",
   "version": "3.12.5"
  }
 },
 "nbformat": 4,
 "nbformat_minor": 2
}
