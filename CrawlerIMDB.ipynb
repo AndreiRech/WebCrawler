{
 "cells": [
  {
   "cell_type": "markdown",
   "metadata": {},
   "source": [
    "## ATIVIDADE 2 - Web Scraping no site IMDB"
   ]
  },
  {
   "cell_type": "code",
   "execution_count": 112,
   "metadata": {},
   "outputs": [
    {
     "data": {
      "text/plain": [
       "'4.31.1'"
      ]
     },
     "execution_count": 112,
     "metadata": {},
     "output_type": "execute_result"
    }
   ],
   "source": [
    "from selenium import webdriver\n",
    "from selenium.webdriver.common.by import By\n",
    "import selenium\n",
    "import time\n",
    "selenium.__version__"
   ]
  },
  {
   "cell_type": "code",
   "execution_count": 113,
   "metadata": {},
   "outputs": [],
   "source": [
    "driver = webdriver.Chrome()"
   ]
  },
  {
   "cell_type": "code",
   "execution_count": 114,
   "metadata": {},
   "outputs": [],
   "source": [
    "driver.get(\"https://www.imdb.com\")"
   ]
  },
  {
   "cell_type": "code",
   "execution_count": 116,
   "metadata": {},
   "outputs": [],
   "source": [
    "menu = driver.find_element(By.XPATH,r'//*[@id=\"imdbHeader-navDrawerOpen\"]') "
   ]
  },
  {
   "cell_type": "code",
   "execution_count": 117,
   "metadata": {},
   "outputs": [
    {
     "name": "stdout",
     "output_type": "stream",
     "text": [
      "<class 'selenium.webdriver.remote.webelement.WebElement'>\n"
     ]
    }
   ],
   "source": [
    "print(type(menu))"
   ]
  },
  {
   "cell_type": "code",
   "execution_count": 118,
   "metadata": {},
   "outputs": [],
   "source": [
    "menu.click()"
   ]
  },
  {
   "cell_type": "code",
   "execution_count": 119,
   "metadata": {},
   "outputs": [],
   "source": [
    "link_calendar = driver.find_element(By.LINK_TEXT, r'Calendário de lançamento')"
   ]
  },
  {
   "cell_type": "code",
   "execution_count": 120,
   "metadata": {},
   "outputs": [
    {
     "name": "stdout",
     "output_type": "stream",
     "text": [
      "<class 'selenium.webdriver.remote.webelement.WebElement'>\n",
      "a\n"
     ]
    }
   ],
   "source": [
    "print(type(link_calendar))\n",
    "print(link_calendar.tag_name)"
   ]
  },
  {
   "cell_type": "code",
   "execution_count": 121,
   "metadata": {},
   "outputs": [
    {
     "name": "stdout",
     "output_type": "stream",
     "text": [
      "https://www.imdb.com/calendar/?ref_=nv_mv_cal\n"
     ]
    }
   ],
   "source": [
    "url = link_calendar.get_attribute(\"href\")\n",
    "print(url)"
   ]
  },
  {
   "cell_type": "code",
   "execution_count": 122,
   "metadata": {},
   "outputs": [],
   "source": [
    "driver.get(url)"
   ]
  },
  {
   "cell_type": "code",
   "execution_count": 123,
   "metadata": {},
   "outputs": [],
   "source": [
    "tag_ul = driver.find_elements(By.CLASS_NAME, 'ipc-metadata-list-summary-item')\n"
   ]
  },
  {
   "cell_type": "code",
   "execution_count": 124,
   "metadata": {},
   "outputs": [
    {
     "name": "stdout",
     "output_type": "stream",
     "text": [
      "<class 'list'>\n"
     ]
    }
   ],
   "source": [
    "print(type(tag_ul))"
   ]
  },
  {
   "cell_type": "code",
   "execution_count": 125,
   "metadata": {},
   "outputs": [
    {
     "name": "stdout",
     "output_type": "stream",
     "text": [
      "Longlegs: Vínculo Mortal (2024)\n",
      "Afraid (2024)\n",
      "Sting: Aranha Assassina (2024)\n",
      "A Caça (2024)\n",
      "Estômago II: O Poderoso Chef (2024)\n",
      "Cidade; Campo (2024)\n",
      "Os Fantasmas Ainda se Divertem - Beetlejuice Beetlejuice (2024)\n",
      "Kill - O Massacre no Trem (2023)\n",
      "O Menino e o Mestre (2023)\n",
      "Corrida Maluca (2023)\n",
      "Vovó Ninja (2024)\n",
      "Não Fale o Mal (2024)\n",
      "Transformers: O Início (2024)\n",
      "Meu Amigo Pinguim (2024)\n",
      "O Bastardo (2023)\n",
      "Ligação Sombria (2023)\n",
      "Silvio (2024)\n",
      "Un silence (2023)\n",
      "Meu Casulo de Drywall (2023)\n",
      "A Forja: O Poder da Transformação (2024)\n",
      "Hellboy e o Homem Torto (2024)\n",
      "Golpe de Sorte em Paris (2023)\n",
      "Passagrana (2024)\n",
      "Saudade fez Morada aqui Dentro (2022)\n",
      "Robô Selvagem (2024)\n",
      "Coringa: Delírio a Dois (2024)\n",
      "Não Solte! (2024)\n",
      "Infestação (2023)\n",
      "A Garota da Vez (2023)\n",
      "Pássaro Branco: Uma História de Extraordinário (2023)\n",
      "A Menina e o Dragão (2024)\n",
      "Força Bruta: Sem Saída (2023)\n",
      "Tudo Por Um Pop Star 2 (2024)\n",
      "Sorria 2 (2024)\n",
      "O Aprendiz (2024)\n",
      "Super/Man: A História de Christopher Reeve (2024)\n",
      "Perfekta: Uma Aventura da Escola de Gênios (2024)\n",
      "Venom: A Última Rodada (2024)\n",
      "Ainda Somos os Mesmos (2024)\n",
      "Megalópolis (2024)\n",
      "Terrifier 3 (2024)\n",
      "Todo Tempo que Temos (2024)\n",
      "Anora (2024)\n",
      "Ameaça no Ar (2024)\n",
      "Lubo (2023)\n",
      "A Vilã das Nove (2024)\n",
      "Arca de Noé (2024)\n",
      "Inexplicável (2024)\n",
      "Gladiador II (2024)\n",
      "As Polacas (2023)\n",
      "Herege (2024)\n",
      "Moana 2 (2024)\n",
      "Wicked (2024)\n",
      "Here (2024)\n",
      "A Complete Unknown (2024)\n",
      "O Conde de Monte Cristo (2024)\n",
      "Conclave (2024)\n",
      "In the Lost Lands (2024)\n",
      "O Senhor dos Anéis: A Guerra dos Rohirrim (2024)\n",
      "Kraven, o Caçador (2024)\n",
      "Mufasa: O Rei Leão (2024)\n",
      "Lee (2023)\n",
      "O Auto da Compadecida 2 (2024)\n",
      "Chico Bento e a Goiabeira Maraviósa (2025)\n",
      "Babygirl (2024)\n",
      "Paddington 3 (2024)\n",
      "Armored (2024)\n",
      "MMA: Meu Melhor Amigo (2025)\n",
      "A Verdadeira Dor (2024)\n",
      "Mickey 17 (2025)\n",
      "Emilia Pérez (2024)\n",
      "Capitão América: Admirável Mundo Novo (2025)\n",
      "O Macaco (2025)\n",
      "Novocaine (2025)\n",
      "Branca de Neve (2025)\n",
      "Amateur (2025)\n",
      "Michael (2025)\n",
      "Thunderbolts* (2025)\n",
      "Missão: Impossível 8 (2025)\n",
      "Karate Kid (2025)\n",
      "F1 (2025)\n",
      "Animal Friends (2025)\n"
     ]
    }
   ],
   "source": [
    "for movie in tag_ul:\n",
    "    print(movie.find_element(By.CLASS_NAME, 'ipc-metadata-list-summary-item__t').text)"
   ]
  },
  {
   "cell_type": "code",
   "execution_count": 126,
   "metadata": {},
   "outputs": [],
   "source": [
    "def extract_titulos(movie):\n",
    "    title_element = movie.find_element(By.CSS_SELECTOR, 'a.ipc-metadata-list-summary-item__t')\n",
    "    return title_element.text\n",
    "\n",
    "def extract_data_lancamento(section):\n",
    "    return section.find_element(By.CSS_SELECTOR, 'h3.ipc-title__text').text\n",
    "\n",
    "def extract_generos(movie):\n",
    "    genres = movie.find_elements(By.CSS_SELECTOR, 'ul.ipc-inline-list--show-dividers.ipc-metadata-list-summary-item__tl li')\n",
    "    return [genre.text for genre in genres]\n",
    "\n",
    "def extract_links(movie, lista):\n",
    "    title_element = movie.find_element(By.CSS_SELECTOR, 'a.ipc-metadata-list-summary-item__t')\n",
    "    link = title_element.get_attribute('href')\n",
    "    lista.append(link)\n",
    "    return link\n",
    "\n"
   ]
  },
  {
   "cell_type": "code",
   "execution_count": 127,
   "metadata": {},
   "outputs": [],
   "source": [
    "def extract_movies_info():\n",
    "    movies_list = []\n",
    "    global movies_links\n",
    "    movies_links = []\n",
    "\n",
    "    # Encontrar todas as seções de lançamento\n",
    "    sections = driver.find_elements(By.CSS_SELECTOR, 'article[data-testid=\"calendar-section\"]')\n",
    "    \n",
    "    for section in sections:\n",
    "        # Extrair a data da seção\n",
    "        date = extract_data_lancamento(section)\n",
    "        \n",
    "        # Encontrar todos os filmes na seção\n",
    "        movies = section.find_elements(By.CSS_SELECTOR, 'li[data-testid=\"coming-soon-entry\"]')\n",
    "        \n",
    "        for movie in movies:\n",
    "            movie_info = {}\n",
    "            movie_info['Título'] = extract_titulos(movie)\n",
    "            movie_info['Link'] = extract_links(movie, movies_links)\n",
    "            movie_info['Gêneros'] = extract_generos(movie)\n",
    "            movie_info['Data de lançamento'] = date\n",
    "            \n",
    "            movies_list.append(movie_info)\n",
    "    \n",
    "    return movies_list"
   ]
  },
  {
   "cell_type": "code",
   "execution_count": 129,
   "metadata": {},
   "outputs": [
    {
     "data": {
      "text/html": [
       "<div>\n",
       "<style scoped>\n",
       "    .dataframe tbody tr th:only-of-type {\n",
       "        vertical-align: middle;\n",
       "    }\n",
       "\n",
       "    .dataframe tbody tr th {\n",
       "        vertical-align: top;\n",
       "    }\n",
       "\n",
       "    .dataframe thead th {\n",
       "        text-align: right;\n",
       "    }\n",
       "</style>\n",
       "<table border=\"1\" class=\"dataframe\">\n",
       "  <thead>\n",
       "    <tr style=\"text-align: right;\">\n",
       "      <th></th>\n",
       "      <th>Título</th>\n",
       "      <th>Link</th>\n",
       "      <th>Gêneros</th>\n",
       "      <th>Data de lançamento</th>\n",
       "    </tr>\n",
       "  </thead>\n",
       "  <tbody>\n",
       "    <tr>\n",
       "      <th>0</th>\n",
       "      <td>Longlegs: Vínculo Mortal (2024)</td>\n",
       "      <td>https://www.imdb.com/title/tt23468450/?ref_=rlm</td>\n",
       "      <td>[Policial, Terror, Suspense]</td>\n",
       "      <td>29 de ago. de 2024</td>\n",
       "    </tr>\n",
       "    <tr>\n",
       "      <th>1</th>\n",
       "      <td>Afraid (2024)</td>\n",
       "      <td>https://www.imdb.com/title/tt24577462/?ref_=rlm</td>\n",
       "      <td>[Terror, Mistério, Ficção científica]</td>\n",
       "      <td>29 de ago. de 2024</td>\n",
       "    </tr>\n",
       "    <tr>\n",
       "      <th>2</th>\n",
       "      <td>Sting: Aranha Assassina (2024)</td>\n",
       "      <td>https://www.imdb.com/title/tt20112746/?ref_=rlm</td>\n",
       "      <td>[Terror, Ficção científica, Suspense]</td>\n",
       "      <td>29 de ago. de 2024</td>\n",
       "    </tr>\n",
       "    <tr>\n",
       "      <th>3</th>\n",
       "      <td>A Caça (2024)</td>\n",
       "      <td>https://www.imdb.com/title/tt22493538/?ref_=rlm</td>\n",
       "      <td>[Terror, Suspense]</td>\n",
       "      <td>29 de ago. de 2024</td>\n",
       "    </tr>\n",
       "    <tr>\n",
       "      <th>4</th>\n",
       "      <td>Estômago II: O Poderoso Chef (2024)</td>\n",
       "      <td>https://www.imdb.com/title/tt28281591/?ref_=rlm</td>\n",
       "      <td>[Comédia, Policial, Drama]</td>\n",
       "      <td>29 de ago. de 2024</td>\n",
       "    </tr>\n",
       "    <tr>\n",
       "      <th>...</th>\n",
       "      <td>...</td>\n",
       "      <td>...</td>\n",
       "      <td>...</td>\n",
       "      <td>...</td>\n",
       "    </tr>\n",
       "    <tr>\n",
       "      <th>77</th>\n",
       "      <td>Thunderbolts* (2025)</td>\n",
       "      <td>https://www.imdb.com/title/tt20969586/?ref_=rlm</td>\n",
       "      <td>[Ação, Aventura, Policial]</td>\n",
       "      <td>02 de mai. de 2025</td>\n",
       "    </tr>\n",
       "    <tr>\n",
       "      <th>78</th>\n",
       "      <td>Missão: Impossível 8 (2025)</td>\n",
       "      <td>https://www.imdb.com/title/tt9603208/?ref_=rlm</td>\n",
       "      <td>[Ação, Aventura, Suspense]</td>\n",
       "      <td>22 de mai. de 2025</td>\n",
       "    </tr>\n",
       "    <tr>\n",
       "      <th>79</th>\n",
       "      <td>Karate Kid (2025)</td>\n",
       "      <td>https://www.imdb.com/title/tt1674782/?ref_=rlm</td>\n",
       "      <td>[Ação, Drama, Família]</td>\n",
       "      <td>30 de mai. de 2025</td>\n",
       "    </tr>\n",
       "    <tr>\n",
       "      <th>80</th>\n",
       "      <td>F1 (2025)</td>\n",
       "      <td>https://www.imdb.com/title/tt16311594/?ref_=rlm</td>\n",
       "      <td>[Drama, Esportes]</td>\n",
       "      <td>26 de jun. de 2025</td>\n",
       "    </tr>\n",
       "    <tr>\n",
       "      <th>81</th>\n",
       "      <td>Animal Friends (2025)</td>\n",
       "      <td>https://www.imdb.com/title/tt16911616/?ref_=rlm</td>\n",
       "      <td>[Animação, Ação, Aventura]</td>\n",
       "      <td>14 de ago. de 2025</td>\n",
       "    </tr>\n",
       "  </tbody>\n",
       "</table>\n",
       "<p>82 rows × 4 columns</p>\n",
       "</div>"
      ],
      "text/plain": [
       "                                 Título  \\\n",
       "0       Longlegs: Vínculo Mortal (2024)   \n",
       "1                         Afraid (2024)   \n",
       "2        Sting: Aranha Assassina (2024)   \n",
       "3                         A Caça (2024)   \n",
       "4   Estômago II: O Poderoso Chef (2024)   \n",
       "..                                  ...   \n",
       "77                 Thunderbolts* (2025)   \n",
       "78          Missão: Impossível 8 (2025)   \n",
       "79                    Karate Kid (2025)   \n",
       "80                            F1 (2025)   \n",
       "81                Animal Friends (2025)   \n",
       "\n",
       "                                               Link  \\\n",
       "0   https://www.imdb.com/title/tt23468450/?ref_=rlm   \n",
       "1   https://www.imdb.com/title/tt24577462/?ref_=rlm   \n",
       "2   https://www.imdb.com/title/tt20112746/?ref_=rlm   \n",
       "3   https://www.imdb.com/title/tt22493538/?ref_=rlm   \n",
       "4   https://www.imdb.com/title/tt28281591/?ref_=rlm   \n",
       "..                                              ...   \n",
       "77  https://www.imdb.com/title/tt20969586/?ref_=rlm   \n",
       "78   https://www.imdb.com/title/tt9603208/?ref_=rlm   \n",
       "79   https://www.imdb.com/title/tt1674782/?ref_=rlm   \n",
       "80  https://www.imdb.com/title/tt16311594/?ref_=rlm   \n",
       "81  https://www.imdb.com/title/tt16911616/?ref_=rlm   \n",
       "\n",
       "                                  Gêneros  Data de lançamento  \n",
       "0            [Policial, Terror, Suspense]  29 de ago. de 2024  \n",
       "1   [Terror, Mistério, Ficção científica]  29 de ago. de 2024  \n",
       "2   [Terror, Ficção científica, Suspense]  29 de ago. de 2024  \n",
       "3                      [Terror, Suspense]  29 de ago. de 2024  \n",
       "4              [Comédia, Policial, Drama]  29 de ago. de 2024  \n",
       "..                                    ...                 ...  \n",
       "77             [Ação, Aventura, Policial]  02 de mai. de 2025  \n",
       "78             [Ação, Aventura, Suspense]  22 de mai. de 2025  \n",
       "79                 [Ação, Drama, Família]  30 de mai. de 2025  \n",
       "80                      [Drama, Esportes]  26 de jun. de 2025  \n",
       "81             [Animação, Ação, Aventura]  14 de ago. de 2025  \n",
       "\n",
       "[82 rows x 4 columns]"
      ]
     },
     "metadata": {},
     "output_type": "display_data"
    }
   ],
   "source": [
    "import pandas as pd\n",
    "\n",
    "# Supondo que você já executou a função extract_movies_info() e obteve a lista de filmes\n",
    "movies_list = extract_movies_info()\n",
    "\n",
    "# Criar um DataFrame a partir da lista de dicionários\n",
    "df_movies = pd.DataFrame(movies_list)\n",
    "\n",
    "# Exibir o DataFrame\n",
    "display(df_movies)\n"
   ]
  },
  {
   "cell_type": "code",
   "execution_count": 132,
   "metadata": {},
   "outputs": [],
   "source": [
    "def procura_ator_diretor(aux, link):\n",
    "    driver.get(link)\n",
    "\n",
    "    director_element = driver.find_element(By.CSS_SELECTOR, '.ipc-metadata-list-item__list-content-item.ipc-metadata-list-item__list-content-item--link')\n",
    "    \n",
    "\n",
    "    actor_elements = driver.find_elements(By.CSS_SELECTOR, 'a[data-testid=\"title-cast-item__actor\"]')\n",
    "    actors = [actor.text for actor in actor_elements]\n",
    "\n",
    "    aux.append(director_element.text)\n",
    "    aux.append(actors)\n",
    "\n",
    "    return aux"
   ]
  },
  {
   "cell_type": "code",
   "execution_count": 133,
   "metadata": {},
   "outputs": [
    {
     "name": "stdout",
     "output_type": "stream",
     "text": [
      "['Osgood Perkins', ['Maika Monroe', 'Nicolas Cage', 'Blair Underwood', 'Alicia Witt', 'Michelle Choi-Lee', 'Dakota Daulby', 'Lauren Acala', 'Kiernan Shipka', 'Maila Hosie', 'Jason William Day', 'Lisa Chandler', 'Ava Kelders', 'Rryla McIntosh', 'Carmel Amit', 'Shafin Karim', 'Trey Helten', 'Daniel Bacon', 'Vanessa Walsh']]\n",
      "['Chris Weitz', ['John Cho', 'Katherine Waterston', 'Keith Carradine', 'Havana Rose Liu', 'Lukita Maxwell', 'Ashley Romans', 'David Dastmalchian', 'Wyatt Lindner', 'Isaac Bae', 'Bennett Curran', 'Greg Hill', 'Riki Lindhome', 'Ashton Essex Bright', 'Mason Shea Joyce', 'River Drosche', 'Todd Waring', 'Simon Craig Raynes', 'Rogelio Douglas III']]\n",
      "['Kiah Roache-Turner', ['Noni Hazlehurst', 'Jermaine Fowler', 'Alyla Browne', 'Robyn Nevin', 'Ryan Corr', 'Kate Walsh', 'Penelope Mitchell', 'Jett Berry', 'Kade Berry', 'Silvia Colloca', 'Lee Perry', 'Danny Kim', 'Tony J Black', 'Alcira Carpio', 'Rowland Holmes']]\n",
      "['Louis Lagayette', ['Lily Banda', 'Alec Newman', 'Kostis Kallivretakis', 'Vassilis Koukalani', 'Mylène Jampanoï', 'Raj Bajaj', 'Daphne Alexander', 'Pigmalion Dadakaridis', 'Argyris Gaganis', 'Marlene Kaminsky', 'Aurora Marion', 'Ayman Al Aboud']]\n",
      "['Marcos Jorge', ['Alessandro Andolfo', 'Giulio Beranek', 'Francesco Bonomo', 'Luiz Brambilla', 'Wenry Bueno', 'Edson Carneiro', 'Altamar Cezar', 'Sidy Correa', 'Stephan Cris', 'Rodrigo Ferrarini', 'Jeff Franco', 'Giorgio Gobbi', 'Leonardo Goulart', 'Gioia Grasso', 'Pedro Inoue', 'Maurizio Jiritano', 'Francesco La Mantia', 'Marisa Laurito']]\n",
      "['Juliana Rojas', ['Fernanda Vianna', 'Mirella Façanha', 'Bruna Linzmeyer', 'Kalleb Oliveira', 'Andrea Marquee', 'Preta Ferreira', 'Marcos de Andrade', 'Nilcéia Vicente', 'Raquel Ferreira', 'Maya de Paiva', 'Rita Niza', 'Brenda Lígia', 'Majeca Angelucci', 'Felipe Kenji', 'Andréia Pires']]\n",
      "['Tim Burton', ['Michael Keaton', 'Winona Ryder', \"Catherine O'Hara\", 'Jenna Ortega', 'Justin Theroux', 'Willem Dafoe', 'Monica Bellucci', 'Arthur Conti', 'Nick Kellington', 'Santiago Cabrera', 'Burn Gorman', 'Danny DeVito', 'Sami Slimane', 'Amy Nuttall', 'Mark Heenehan', 'Charlie Hopkinson', 'Liv Spencer', 'Skylar Park']]\n",
      "['Nikhil Nagesh Bhat', ['Lakshya', 'Raghav Juyal', 'Tanya Maniktala', 'Abhishek Chauhan', 'Ashish Vidyarthi', 'Pratap Verma', 'Harsh Chhaya', 'Adrija Sinha', 'Meenal Kapoor', 'Mukesh Chandelia', 'Madhu Raja', 'Arun Thakur', 'Aman Bal', 'Jatinder', 'Vipan Dhavan', 'Tajinder', 'Janvi Bansal', 'Nandini']]\n",
      "['Neil Boyle', ['Cillian Murphy', 'Sally Hawkins', 'Raffey Cassidy', 'Ken Watanabe', 'Aaron MacGregor', 'Kotoko Wertheim']]\n",
      "['Ross Venokur', ['Jimmy O. Yang', 'J.K. Simmons', 'Chloe Bennet', 'Lisa Lu', 'Sharon Horgan', 'Catherine Tate', 'John Cleese', 'Nick Heath', 'Naomi McDonald', 'Rebecca Yeo', 'Raza Jaffrey', 'Alexander Rodriguez', 'Kerry Shale']]\n",
      "['Bruno Barreto', ['Glória Pires']]\n",
      "['James Watkins', ['James McAvoy', 'Mackenzie Davis', 'Scoot McNairy', 'Aisling Franciosi', 'Alix West Lefler', 'Dan Hough', 'Kris Hitchen', 'Motaz Malhees']]\n",
      "['Josh Cooley', ['Chris Hemsworth', 'Brian Tyree Henry', 'Scarlett Johansson', 'Keegan-Michael Key', 'Jon Hamm', 'Laurence Fishburne', 'Steve Buscemi', 'Vanessa Liguori', 'Jon Bailey', 'Jason Konopisos-Alvarez', 'Evan Michael Lee', 'Isaac C. Singleton Jr.', 'Jinny Chung', 'Josh Cooley', 'Dillon Bryan']]\n",
      "['David Schurmann', ['Jean Reno', 'Adriana Barraza', 'Alexia Moyano', 'Nicolás Francella', 'Rochi Hernández', 'Juan José Garnica', 'Duda Galvão', 'Ravel Cabral', 'Roberto Borenstein', 'Ellen C. Camp', 'Pedro Caetano', 'Thalma de Freitas', 'Fernando Lufer', 'Amanda Magalhães', 'Rafael Pimenta', 'Juan Queiroz', 'Wilson Rabelo', 'José Trassi']]\n",
      "['Nikolaj Arcel', ['Mads Mikkelsen', 'Amanda Collin', 'Simon Bennebjerg', 'Melina Hagberg', 'Kristine Kujath Thorp', 'Gustav Lindh', 'Morten Hee Andersen', 'Thomas W. Gabrielsson', 'Jacob Lohmann', 'Magnus Krepper', 'Felix Kramer', 'Olaf Højgaard', 'Laura Bilgrau Eskild-Jensen', 'Anna Filippa Hjarne', 'Hans Christian Lundgren', 'Arved Friese', 'Søren Malling', 'Jirí Konvalinka']]\n",
      "['Yuval Adler', ['Nicolas Cage', 'Joel Kinnaman', 'Alexis Zollicoffer', 'Cameron Lee Price', 'Oliver McCallum', 'Burns Burns', 'Rich Hopkins', 'Nancy Good', 'Kaiwi Lyman', 'Bonnie Mercado']]\n",
      "['Marcelo Antunez', ['Rodrigo Faro', 'Johnnas Oliva', 'Vinícius Ricci', 'Fellipe Castro', 'Marjorie Gerardi', 'Eduardo Reyes', 'Bruna Aiiso', 'Duda Mamberti', 'Lara Córdulla', 'Adriana Londoño', 'Polliana Aleixo', 'Paulo Gorgulho', 'Jhessica Daher', 'Rhayssa Martins', 'Ana Paula Lopez', 'Adriana Agra', 'Míriam Braga', 'João Bourbonnais']]\n",
      "['Joachim Lafosse', ['Daniel Auteuil', 'Emmanuelle Devos', 'Matthieu Galoux', 'Jeanne Cherhal', 'Louise Chevillotte', 'Nicolas Buysse', 'Karim Barras', 'Larisa Faber', 'Baptiste Sornin', 'Shann Case', 'Massimo Riggi', 'Colette Kieffer', 'Elsa Rauchs', 'Jonas Wertz', 'Ismaël Michiels', 'Damien Bonnard', 'Magali Pinglaut', 'Laure Hemmer']]\n",
      "['Caroline Fioratti', ['Bella Piero', 'Maria Luísa Mendonça', 'Daniel Botelho', 'Caco Ciocler', 'Marat Descartes', 'Debora Duboc', 'Flávia Garrafa', 'Michel Joelsas', 'Mari Oliveira', 'Lena Roque']]\n",
      "['Alex Kendrick', ['Aspen Kennedy', 'Cameron Arnett', 'Karen Abercrombie', 'B.J. Arnett', 'Selah Avery', 'Ken Bevel', 'Joseph Curtis Callender', 'Dylan Cruz', 'Jonathan Evans', 'Brendan Goshay', 'Marianne Haaland', 'Bobby Hardin Jr.', 'Michelle L. King', 'Sharonne Lanier', 'Stephen C. Lewis', 'McKalin', 'Willie Mellina', 'William Oliver']]\n",
      "['Brian Taylor', ['Jack Kesy', 'Jefferson White', 'Joseph Marcell', 'Leah McNamara', 'Adeline Rudolph', 'Martin Bassindale', 'Nathan Cooper', 'Hannah Margetson', 'Carola Colombo']]\n",
      "['Woody Allen', ['Lou de Laâge', 'Niels Schneider', 'Anna Laik', 'Melvil Poupaud', 'Yannick Choirat', 'Guillaume de Tonquédec', 'William Nadylam', 'Elsa Zylberstein', 'Arnaud Viard', 'Jeanne Bournaud', 'Anne Loiret', 'Sara Martins', 'Alan Risbac', 'Éric Frey', 'Samantha Fuller', 'Valérie Lemercier', 'Emilie Incerti-Formentini', 'Eve Margnat']]\n",
      "['Ravel Cabral', ['Carol Castro', 'Luciana Paes', 'Giovanna Grigio', 'Caco Ciocler', 'Irene Ravache', 'Ravel Cabral', 'José Trassi', 'João Paulo Bienermann', 'Juan Queiroz', 'Wagner Santisteban', 'Sabrina Nonata', 'Gabriel Muglia', 'Fernando Rubro', 'Leandro Ramos', 'Wesley Guimarães', 'Michel Pereira', 'Márcia de Oliveira', 'Marco Luque']]\n",
      "['Haroldo Borges', ['Bruno Jefferson', 'Angela Maria', 'Ronnaldy Gomes', 'Terena França', 'Wilma Macêdo']]\n",
      "['Chris Sanders', [\"Lupita Nyong'o\", 'Pedro Pascal', 'Kit Connor', 'Bill Nighy', 'Stephanie Hsu', 'Matt Berry', 'Ving Rhames', 'Mark Hamill', \"Catherine O'Hara\", 'Boone Storm', 'Alexandra Novelle', 'Raphael Alejandro', 'Paul-Mikél Williams', 'Eddie Park', 'Dee Bradley Baker', 'Randy Thom', 'Avrielle Corti', 'Keston John']]\n",
      "['Todd Phillips', ['Zazie Beetz', 'Joaquin Phoenix', 'Ken Leung', 'Lady Gaga', 'Catherine Keener', 'Brendan Gleeson', 'Harry Lawtey', 'Steve Coogan', 'Jacob Lofland', 'Gattlin Griffith', 'Bill Smitrovich', 'George Carroll', 'John Lacy', 'Leigh Gill', 'Tim Dillon', 'Sharon Washington', 'Mike Houston', 'G.L. McQueary']]\n",
      "['Alexandre Aja', ['Halle Berry', 'Matthew Kevin Anderson', 'Christin Park', 'Stephanie Lavigne', 'Anthony B. Jenkins', 'Mila Morgan', 'Percy Daggs IV', 'Cadence Compton', 'Georges Gracieuse']]\n",
      "['Sébastien Vanicek', ['Théo Christine', 'Sofia Lesaffre', 'Jérôme Niel', 'Lisa Nyarko', 'Finnegan Oldfield', 'Marie-Philomène Nga', 'Mahamadou Sangaré', 'Abdellah Moundy', 'Ike Zacsongo', 'Emmanuel Bonami', 'Xing Xing Cheng', 'Samir Nait', 'Malik Amraoui', 'Lehcem Mahidi', 'Nasser Mehal', 'Abdelkader Bounoir', 'Karim Daoues', 'Christine Kay']]\n",
      "['Anna Kendrick', ['Anna Kendrick', 'Tony Hale', 'Jedidiah Goodacre', 'Kelley Jakle', 'Daniel Zovatto', 'Max Lloyd-Jones', 'Dylan Schmid', 'Geoff Gustafson', 'Kathryn Gallagher', 'Jason Simpson', 'Matt Visser', 'Matty Finochio', 'Matthew Kevin Anderson', 'Nicolette Robinson', 'Jessie Fraser', 'Darcy Laurie', 'Autumn Best', 'Michael Jonsson']]\n",
      "['Marc Forster', ['Gillian Anderson', 'Helen Mirren', 'Bryce Gheisar', 'Olivia Ross', 'Patsy Ferran', 'Jo Stone-Fewings', 'Orlando Schwerdt', 'Ariella Glaser', 'Stuart McQuarrie', 'John Bubniak', 'Jim High', 'Philip Lenkowsky', 'Ishai Golan', 'Nadine Leon Gobet', 'Teagan Stark', 'Karolina Lea Novakova', 'James Beaumont', 'Jem Matthews']]\n",
      "['Jianping Li', ['Mario Gas', 'Lucía Pérez', 'Nano Castro', 'Carlos de Luna', 'Jos Gómez', 'César Capilla', 'Isabel Gaudí', 'Miquel Rodríguez Ros', 'Álvaro Navarro', 'Jorge García Insúa', 'Yolanda Portillo', 'Margarita Aurora Hernández', 'Jonathan D. Mellor', 'Manuel de Andrés', 'Carmen Podio', 'Adrián Olvera', 'Fernando Serna', 'Iñigo Hoyo']]\n",
      "['Lee Sang-yong', ['Ma Dong-seok', 'Lee Jun-hyuk', 'Munetaka Aoki', 'Ahn Se-ho', 'Bae Noo-ri', 'Gong Dae-Yu', 'Kim Do-geon', 'Choi Dong-goo', 'Ko Gun-Han', 'Go Gyu-pil', 'Shin Hyeon-Yong', 'Yoo In-Hyuk', 'Hong Joon-Young', 'Yoon Kang', 'Kim Ki-ho', 'Min Kim', 'Jun Kunimura', 'Choi Kwang-Je']]\n",
      "['Marco Antonio de Carvalho', ['Giovanna Lancellotti', 'Gabriella Saraivah', 'Gabz', 'Pietra Quintela', 'Bela Fernandes', 'Bárbara Maia', 'Lucas Burgatti', 'Caio Manhente', 'Thalita Rebouças', 'Angela Paz', 'Clarissa Müller', 'Maitê Padilha', 'João Manoel', 'Hugo Gloss', 'Ester Dias', 'Laura Castro']]\n",
      "['Parker Finn', ['Kyle Gallner', 'Naomi Scott', 'Rosemarie DeWitt', 'Lukas Gage', 'Dylan Gelula', 'Peter Jacobson', 'Raúl Castillo', 'Daphne Zelle', 'Miles Gutierrez-Riley', 'Zebedee Row', 'Micaela Lamas']]\n",
      "['Ali Abbasi', ['Sebastian Stan', 'Jeremy Strong', 'Maria Bakalova', 'Martin Donovan', 'Catherine McNally', 'Charlie Carrick', 'Ben Sullivan', 'Mark Rendall', 'Joe Pingue', 'Jim Monaco', 'Bruce Beaton', 'Ian D. Clark', \"Valerie O'Connor\", 'James Madge', 'Ron Lea', 'Edie Inksetter', 'Michael Hough', 'Robert J. Tavenor']]\n",
      "['Ian Bonhôte', ['Christopher Reeve', 'Johnny Carson', 'Bill Clinton', 'Hillary Clinton', 'Glenn Close', 'Richard Donner', 'Alexandra Reeve Givens', 'John Houseman', 'Barack Obama', 'Dana Reeve', 'Matthew Reeve', 'Will Reeve', 'Susan Sarandon', 'Jane Seymour', 'Robin Williams']]\n",
      "['João Daniel Tikhomiroff', ['Rômulo Estrela', 'Daniel Dantas', 'Roberto Birindelli', 'Kaik Pereira', 'Júlia Mendes', 'Enzo Ignacio', 'Barbara Coura', 'Sophia Rosa', 'Ana Carolina Leite', 'Stella Camargo', 'Murilo Gricolo']]\n",
      "['Kelly Marcel', ['Tom Hardy', 'Juno Temple', 'Rhys Ifans', 'Alanna Ubach', 'Stephen Graham', 'Chiwetel Ejiofor', 'Cristo Fernández', 'Clark Backo', 'Hala Finley', 'Ivo Nandi', 'Peggy Lu', 'Dash McCloud', 'Otis Winston']]\n",
      "['Paulo Nascimento', ['Carol Castro', 'Bruno Rapone', 'Nicola Siri', 'Edson Celulari', 'Néstor Guzzini', 'Gabrielle Fleck', 'Lucas Zaffari', 'Henrique Guimarães', 'Roberto Rios', 'Ícaro Cabral', 'Suzi Martinez', 'Natália Sacramento', 'Mariana Catalane', 'Jessica Trintin', 'Rogério Beretta', 'Karen Lourenzi', 'Guilherme Varani', 'Susana Scherer']]\n",
      "['Francis Ford Coppola', ['Adam Driver', 'Giancarlo Esposito', 'Nathalie Emmanuel', 'Aubrey Plaza', 'Shia LaBeouf', 'Jon Voight', 'Laurence Fishburne', 'Talia Shire', 'Jason Schwartzman', 'Kathryn Hunter', 'Grace VanderWaal', 'Chloe Fineman', 'James Remar', 'D.B. Sweeney', 'Isabelle Kusman', 'Bailey Ives', 'Madeleine Gardella', 'Balthazar Getty']]\n",
      "['Damien Leone', ['Jason Patric', 'Daniel Roebuck', 'David Howard Thornton', 'Lauren LaVera', 'Charlotte McKee', 'Bryce Johnson', 'Samantha Scaffidi', 'Bradley Stryker', 'Chris Jericho', 'Elliott Fullam', 'Krsy Fox', 'Sienna Hubert-Ross', 'Alexa Blair Robertson', 'Antonella Rose', 'Margaret Anne Florence', 'Chip Carriere', 'Luciana VanDette', 'Mason Mecartea']]\n",
      "['John Crowley', ['Andrew Garfield', 'Florence Pugh', 'Grace Delaney', 'Lee Braithwaite', 'Aoife Hinds', 'Adam James', 'Douglas Hodge', 'Amy Morgan', 'Niamh Cusack', 'Lucy Briers', 'Robert Boulter', 'Nikhil Parmar', 'Kerry Godliman', 'Heather Craney', 'Matt Kennard', 'Sam Kennard', 'Saroja-Lily Ratnavel', 'Laura Guest']]\n",
      "['Sean Baker', ['Mikey Madison', 'Paul Weissman', 'Lindsey Normington', 'Emily Weider', 'Luna Sofía Miranda', 'Vincent Radwinsky', 'Brittney Rodriguez', 'Sophia Carnabuci', 'Mark Eidelshtein', 'Anton Bitter', 'Ella Rubin', 'Ross Brodar', 'Zoë Vnak', 'Vlad Mamai', 'Maria Tichinskaya', 'Ivy Wolk', 'Karren Karagulian', 'Vache Tovmasyan']]\n",
      "['Mel Gibson', ['Mark Wahlberg', 'Michelle Dockery', 'Topher Grace', 'Monib Abhat', 'Paul Ben-Victor', 'Savanah Joeckel', 'Georgi S. Georgiev', 'Atanas Srebrev']]\n",
      "['Giorgio Diritti', ['Franz Rogowski', 'Valentina Bellè', 'Joel Basman', 'Philippe Graber', 'Noémi Besedes', 'Diego Benzoni', 'Christophe Sermet', 'Anina Sara Baumgartner', 'Cecilia Steiner', 'Roman Weishaupt', 'Federica Garavaglia', 'Oliver Ewy', 'Jörg Reichlin', 'Francesco Limenta', 'Filippo Giulini', 'Christian Bianco', 'Eva Kuen', 'Alessandro Zappella']]\n",
      "['Teodoro Poppovic', ['Karine Teles', 'Camila Márdila', 'Felipe Rocha', 'Alice Wegmann', 'Antonio Pitanga', 'Stella Rabello', 'Rodrigo García', 'Otto Jr.', 'Valentina Bandeira', 'Tulio Starling', 'Isabella Mariotto', 'Ângela Rabello', 'Laura Pessoa', 'Negro Leo', 'Bia Vivace']]\n",
      "['Alois Di Leo', ['Rodrigo Santoro', 'Marcelo Adnet', 'Alice Braga', 'Keith Silverstein', 'Ian James Corlett', 'Luis Bermudez', 'Laila McCann', 'Debra Wilson', 'Christopher Corey Smith', 'Triya Leong', 'Rachel Butera', 'Misty Lee', 'Rick Zieff', 'David Lodge', 'Bill Rogers', 'Karen Strassman', 'Mark Lewis', 'Nisa Ward']]\n",
      "['Fabrício Bittar', ['Letícia Spiller', 'Eriberto Leão', 'Miguel Venerabile', 'André Ramiro', 'Adriana Lessa', 'Victor Lamoglia', 'Suely Franco', 'Walter Breda', 'Leonardo Miggiorin', 'Moacyr Franco']]\n",
      "['Ridley Scott', ['Joseph Quinn', 'Pedro Pascal', 'Denzel Washington', 'Connie Nielsen', 'Paul Mescal', 'Rory McCann', 'Fred Hechinger', 'Derek Jacobi', 'Tim McInnerny', 'Matt Lucas', 'May Calamawy', 'Peter Mensah', 'Lior Raz', 'Alec Utgoff', 'Alexander Karim', 'Lee Charles', 'Chi Lewis-Parry', 'Chidi Ajufo']]\n",
      "['João Jardim', ['Caco Ciocler', 'Erom Cordeiro', 'Dora Freind', 'Bruce Gomlevsky', 'Valentina Herszage', 'Anna Kufner', 'Manuela Libman', 'Letícia Magalhães', 'Otávio Müller', 'Clarice Niskier', 'Amaurih Oliveira', 'Bruno Pego', 'Liliane Rovaris', 'Fabrício Victorino', 'Marlus Vieira']]\n",
      "['Scott Beck', ['Hugh Grant', 'Sophie Thatcher', 'Chloe East', 'Elle McKinnon', 'Stephanie Lavigne', 'River Codack', 'Carolyn Adair', 'Haylie Hansen', 'Elle Young']]\n",
      "['David G. Derrick Jr.', ['Dwayne Johnson', \"Auli'i Cravalho\", 'Alan Tudyk', 'Rachel House', 'Temuera Morrison', 'Nicole Scherzinger', 'Rose Matafeo', 'David Fane', 'Awhimai Fraser', 'Khaleesi Lambert-Tsuda', 'Hualalai Chung', 'Gerald Ramsey']]\n",
      "['Jon M. Chu', ['Cynthia Erivo', 'Ariana Grande', 'Jonathan Bailey', 'Marissa Bode', 'Ethan Slater', 'Michelle Yeoh', 'Jeff Goldblum', 'Keala Settle', 'Bronwyn James', 'Bowen Yang', 'Aaron Teoh Guan Ti', 'Adam James', 'Colin Michael Carmichael', 'Peter Dinklage', 'James Dryden', 'Emily Tebbutt', 'Grecia De la Paz', 'Alfredo Tavares']]\n",
      "['Robert Zemeckis', ['Tom Hanks', 'Kelly Reilly', 'Daniel Betts', 'Robin Wright', 'Michelle Dockery', 'Paul Bettany', 'Ophelia Lovibond', 'David Fynn', 'Nikki Amuka-Bird', 'Beau Gadsdon', 'Jonathan Aris', 'Dexter Sol Ansell', 'Stuart Bowman', 'Leslie Zemeckis', 'Lilly Aspell', 'Lauren McQueen', 'Billie Gadsdon', 'Joel Oulette']]\n",
      "['James Mangold', ['Edward Norton', 'Timothée Chalamet', 'Boyd Holbrook', 'Elle Fanning', 'Monica Barbaro', 'Scoot McNairy', 'Dan Fogler', 'Charlie Tahan', 'Joe Tippett', 'Michael Chernus', 'P.J. Byrne', 'Norbert Leo Butz', 'James Austin Johnson', 'Kayli Carter', 'David Alan Basche', 'Will Harrison', 'Will Fitz', 'Eli Brown']]\n",
      "['Alexandre de La Patellière', ['Pierre Niney', 'Bastien Bouillon', 'Anaïs Demoustier', 'Anamaria Vartolomei', 'Laurent Lafitte', 'Pierfrancesco Favino', 'Patrick Mille', 'Vassili Schneider', 'Julien De Saint Jean', 'Julie De Bona', 'Adèle Simphal', 'Stéphane Varupenne', 'Marie Narbonne', 'Bruno Raffaelli', 'Abde Maziane', 'Bernard Blancan', 'Oscar Lesage', 'Joachim Simon']]\n",
      "['Edward Berger', ['Ralph Fiennes', 'Stanley Tucci', 'John Lithgow', 'Isabella Rossellini', 'Lucian Msamati', \"Brían F. O'Byrne\", 'Merab Ninidze', 'Sergio Castellitto', 'Jacek Koman', 'Carlos Diehz', 'Joseph Mydell', 'Rony Kramer', 'Loris Loddi', 'Thomas Loibl', 'Jeremy Withrow', 'Giulio Schiffer']]\n",
      "['Paul W.S. Anderson', ['Milla Jovovich', 'Dave Bautista', 'Arly Jover', 'Amara Okereke', 'Fraser James', 'Simon Lööf', 'Deirdre Mullins', 'Sebastian Stankiewicz', 'Tue Lunding', 'Jacek Dzisiewicz', 'Ian Hanmore', 'Eveline Hall', 'Kamila Klamut', 'Caoilinn Springall', 'Jan Kowalewski', 'Pawel Wysocki', 'Tomasz Cymerman', 'Nicolas Stone']]\n",
      "['Kenji Kamiyama', ['Brian Cox', 'Miranda Otto', 'Shaun Dooley', 'Luke Pasqualino', 'Gaia Wise', 'Lorraine Ashbourne', 'Janine Duvitski', 'Benjamin Wainwright', 'Michael Wildman', 'Bilal Hasna', 'Alex Jordan', 'Jude Akuwudike', 'Laurence Ubong Williams', 'Yazdan Qafouri']]\n",
      "['J.C. Chandor', ['Russell Crowe', 'Aaron Taylor-Johnson', 'Fred Hechinger', 'Christopher Abbott', 'Ariana DeBose', 'Alessandro Nivola', 'Levi Miller', 'Billy Barratt', 'Yuri Kolokolnikov', 'Chi Lewis-Parry', 'Jessica Zhou', 'Murat Seven', 'Elander Moore', 'Dritan Kastrati', 'Rachel Handshaw', 'Filiz Fairweather', 'Robert Ryan', 'Greg Kolpakchi']]\n",
      "['Barry Jenkins', ['Aaron Pierre', 'Kelvin Harrison Jr.', 'Seth Rogen', 'Billy Eichner', 'John Kani', 'Mads Mikkelsen', 'Thandiwe Newton', 'Blue Ivy Carter', 'Keith David', 'Donald Glover', 'Anika Noni Rose', 'Lennie James', 'Beyoncé', 'Folake Olowofoyeku', 'Tiffany Boone', 'Preston Nyman', 'Abdul Salis', 'Theo Somolu']]\n",
      "['Ellen Kuras', ['Alexander Skarsgård', 'Kate Winslet', 'Andy Samberg', 'Andrea Riseborough', \"Josh O'Connor\", 'Marion Cotillard', 'Noémie Merlant', 'James Murray', 'Samuel Barnett', 'Enrique Arce', 'Arinzé Kene', 'Riley Neldam', 'Patrick Mille', 'Zita Hanrot', 'Toni Gojanovic', 'Vincent Colombe', 'Katalin Ruzsik', 'Harriet Leitch']]\n",
      "['Guel Arraes', ['Selton Mello', 'Matheus Nachtergaele', 'Taís Araújo', 'Virginia Cavendish', 'Juliano Cazarré', 'Eduardo Sterblitch', 'Fabiula Nascimento', 'Humberto Martins', 'Enrique Diaz', 'Luellem de Castro', 'Luis Miranda']]\n",
      "['Fernando Fraiha', ['Isaac Amendoim', 'Débora Falabella', 'Guilherme Tavares', 'Augusto Madeira', 'Davi Okabe', 'Luis Lobianco', 'Igor Pushinov', 'Lorena de Oliveira', 'Enzo Henrique', 'Pedro Dantas', 'Anna Julia Dias']]\n",
      "['Halina Reijn', ['Nicole Kidman', 'Harris Dickinson', 'Antonio Banderas', 'Sophie Wilde', 'Esther McGregor', 'Vaughan Reilly', 'Victor Slezak', 'Leslie Silva', 'Gaite Jansen', 'Robert Farrior', 'Bartley Booz', 'Anoop Desai', 'Mary Ann Lamb', 'Gabrielle Policano', 'Gabriela Torres', 'Izabel Mar', \"Max O'Herlihy\", 'Michael Wichmann']]\n",
      "['Dougal Wilson', ['Olivia Colman', 'Emily Mortimer', 'Antonio Banderas', 'Jim Broadbent', 'Ben Whishaw', 'Imelda Staunton', 'Hugh Bonneville', 'Julie Walters', 'Amit Shah', 'Madeleine Harris', 'Samuel Joslin', 'Ashleigh Reynolds', 'Carla Tous', 'Atilla Akinci', 'Kat Collings', 'Vicente Wallenstein', 'Hannah Veerapen', 'Chi Aloysius']]\n",
      "['Justin Routt', ['Sylvester Stallone', 'Josh Wiggins', 'Dash Mihok', 'Jason Patric', 'Laney Stiebing', 'Erin Ownbey', 'Jeff Chase', 'Victoria Paige Watkins', 'Joel Cohen', 'Josh Whites', 'Beau Bommarito', 'Justin William Davis', 'David Perks']]\n",
      "['José Alvarenga Jr.', ['Hoji Fortuna', 'Andréia Horta', 'Antônio Fagundes', 'Vanessa Giácomo', 'Guilherme Tavares', 'Laura Luz', 'Lúcio Mauro Filho', 'Thiago Voltolini', 'Augusto Madeira', 'Marcos Mion', 'Welder Rodrigues', 'Marjorie Gerardi', 'Tiago Luchi', 'Mario Yamasaki', 'Mateus Ramos', 'Ricardo Ripa', 'Raimundo Moura']]\n",
      "['Jesse Eisenberg', ['Kieran Culkin', 'Jesse Eisenberg', 'Olha Bosova', 'Banner Eisenberg', 'Jakub Gasowski', 'Will Sharpe', 'Daniel Oreskes', 'Liza Sadovy', 'Kurt Egyiawan', 'Jennifer Grey', 'Ellora Torchia', 'Piotr Czarniecki', 'Krzysztof Jaszczak', 'Marek Kasprzyk', 'Jakub Pruski']]\n",
      "['Bong Joon Ho', ['Naomi Ackie', 'Robert Pattinson', 'Mark Ruffalo', 'Toni Collette', 'Steven Yeun', 'Angus Imrie', 'Thomas Turgoose', 'Daniel Henshall', 'Emily Tebbutt', 'Steve Park', 'Patsy Ferran', 'Stuart Whelan', 'Chelsea Li', 'Spike White', 'Michael Monroe', 'Sam Woodhams', 'Tom Cawte', 'Milo James']]\n",
      "['Jacques Audiard', ['Zoe Saldana', 'Karla Sofía Gascón', 'Selena Gomez', 'Adriana Paz', 'Edgar Ramírez', 'Mark Ivanir', 'Eduardo Aladro', 'Emiliano Edmundo Hasan Jalil', 'Gaël Murgia-Fur', 'Tirso Pietriga', 'Xiomara Melissa Ahumada Quito', 'Magali Brito', 'Jarib dit Javier Zagoya Montiel', 'Sébastien Fruit', 'Alejandra Reyes', 'Anabel Lopez', 'Daniel Velasco-Acosta', 'James Gerard']]\n",
      "['Julius Onah', ['Harrison Ford', 'Giancarlo Esposito', 'Liv Tyler', 'Rosa Salazar', 'Anthony Mackie', 'Tim Blake Nelson', 'Shira Haas', 'Danny Ramirez', 'Takehiro Hira', 'Phuong Kubacki', 'Carl Lumbly', 'Colby Lopez', 'Xosha Roquemore', 'Rachael Markarian', 'Jacqueline Loucks', 'Tony Mareno', \"Zo'Anne Mckinstry\"]]\n",
      "['Osgood Perkins', ['Theo James', 'Osgood Perkins', 'Tatiana Maslany', 'Elijah Wood', 'Laura Mennell', 'Christian Convery', 'Sarah Levy', 'Rohan Campbell', \"Colin O'Brien\", 'Corin Clark', 'Kingston Chan', 'Danica Dreyer', 'Zia Newton', 'Dianne Greenwood']]\n",
      "['Dan Berk', ['Jack Quaid', 'Amber Midthunder', 'Matt Walsh', 'Jacob Batalon', 'Betty Gabriel', 'Ray Nicholson', 'Dominique Maher', 'Jessica Stanley', 'Evan Hengst', 'Conrad Kemp', 'DeVille Vannik', 'Motsi Tekateka']]\n",
      "['Marc Webb', ['Rachel Zegler', 'Gal Gadot', 'Andrew Burnap', 'Eddison Burch', 'Emilia Faucher', 'Ansu Kabia', 'Lorena Andrea', 'Colin Michael Carmichael', 'Dujonna Gift', 'Leon Ung', 'Luisa Guerreiro', 'Jon-Scott Clark', 'Dean Nolan', 'Misa Koide', 'Joshmaine Joseph', 'Kathryn Akin', 'Kat Collings', 'Charlie Man Evans']]\n",
      "['James Hawes', ['Caitríona Balfe', 'Rami Malek', 'Holt McCallany', 'Rachel Brosnahan', 'Laurence Fishburne', 'Julianne Nicholson', 'Takehiro Hira', 'Alice Hewkin', 'Adrian Martinez', 'Joseph Millson', 'Marc Rissmann', 'Barbara Probst', 'Nick Mills', 'Evan Milton', 'Thiago Brandão', 'Christy Meyer', 'Fleur Keith', 'Obie Matthew']]\n",
      "['Antoine Fuqua', ['Miles Teller', 'Colman Domingo', 'Kat Graham', 'Nia Long', 'Laura Harrier', 'Jaafar Jackson', 'Larenz Tate', 'Jessica Sula', 'Derek Luke', 'Kendrick Sampson', 'Nathaniel Logan McIntyre', 'Allan Wayne Anderson', 'Carly King', 'Joseph David-Jones', 'KeiLyn Durrel Jones', 'Jordyn Rax', 'Rhyan Hill', 'Jacob John Caldwell']]\n",
      "['Jake Schreier', ['Florence Pugh', 'Lewis Pullman', 'Olga Kurylenko', 'Rachel Weisz', 'Sebastian Stan', 'Hannah John-Kamen', 'Julia Louis-Dreyfus', 'David Harbour', 'Wyatt Russell', 'Geraldine Viswanathan', 'Christopher Cocke', 'Malik Jubal', 'Alireza Mirmontazeri']]\n",
      "['Christopher McQuarrie', ['Tom Cruise', 'Vanessa Kirby', \"Katy O'Brian\", 'Hayley Atwell', 'Hannah Waddingham', 'Nick Offerman', 'Pom Klementieff', 'Simon Pegg', 'Holt McCallany', 'Indira Varma', 'Ving Rhames', 'Shea Whigham', 'Esai Morales', 'Janet McTeer', 'Pasha D. Lychnikoff', 'Henry Czerny', 'Charles Parnell', 'Mariela Garriga']]\n",
      "['Jonathan Entwistle', ['Joshua Jackson', 'Jackie Chan', 'Ralph Macchio', 'Ming-Na Wen', 'Shaunette Renée Wilson', 'Aramis Knight', 'Sadie Stanley', 'Wyatt Oleff', 'Ben Wang', 'Jennifer-Lynn Christie']]\n",
      "['Joseph Kosinski', ['Brad Pitt', 'Kerry Condon', 'Tobias Menzies', 'Javier Bardem', 'Simone Ashley', 'Callie Cooke', 'Kim Bodnia', 'Damson Idris', 'Sarah Niles', 'Samson Kayo', 'Will Merrick', 'Joseph Balderrama', 'Art Newkirk', 'Lewis Hamilton', 'Abdul Salis', 'Eddie Eniel', 'Michael Aaron Milligan', 'Carlos Sainz']]\n",
      "['Peter Atencio', ['Ryan Reynolds', 'Aubrey Plaza', 'Jason Momoa', 'Dan Levy', 'Addison Rae', 'Joaquim de Almeida', 'Ellie Bamber', 'Lil Rel Howery', 'Peter Atencio', 'Reis Daniel', 'Donald Sage Mackay', 'Lucia Aliu', 'Georgi S. Georgiev', 'Jimmy Smagula', 'Owen Davis', 'John Riho Kim', 'Anwar Lynch', 'Peter Petrov-Pero']]\n"
     ]
    }
   ],
   "source": [
    "info = []\n",
    "for link in movies_links:\n",
    "    aux = []\n",
    "    info.append(procura_ator_diretor(aux, link))\n",
    "\n",
    "for i in info:\n",
    "    print(i)"
   ]
  },
  {
   "cell_type": "code",
   "execution_count": null,
   "metadata": {},
   "outputs": [],
   "source": []
  }
 ],
 "metadata": {
  "kernelspec": {
   "display_name": "Python 3",
   "language": "python",
   "name": "python3"
  },
  "language_info": {
   "codemirror_mode": {
    "name": "ipython",
    "version": 3
   },
   "file_extension": ".py",
   "mimetype": "text/x-python",
   "name": "python",
   "nbconvert_exporter": "python",
   "pygments_lexer": "ipython3",
   "version": "3.12.5"
  }
 },
 "nbformat": 4,
 "nbformat_minor": 2
}
