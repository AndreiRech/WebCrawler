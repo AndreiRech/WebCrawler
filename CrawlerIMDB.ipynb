{
 "cells": [
  {
   "cell_type": "markdown",
   "metadata": {},
   "source": [
    "## ATIVIDADE 2 - Web Scraping no site IMDB"
   ]
  },
  {
   "cell_type": "code",
   "execution_count": 21,
   "metadata": {},
   "outputs": [
    {
     "data": {
      "text/plain": [
       "'4.31.1'"
      ]
     },
     "execution_count": 21,
     "metadata": {},
     "output_type": "execute_result"
    }
   ],
   "source": [
    "from selenium import webdriver\n",
    "from selenium.webdriver.common.by import By\n",
    "import selenium\n",
    "selenium.__version__"
   ]
  },
  {
   "cell_type": "code",
   "execution_count": 22,
   "metadata": {},
   "outputs": [],
   "source": [
    "driver = webdriver.Chrome()"
   ]
  },
  {
   "cell_type": "code",
   "execution_count": 23,
   "metadata": {},
   "outputs": [
    {
     "name": "stdout",
     "output_type": "stream",
     "text": [
      "IMDb: Classificações, avaliações e onde assistir os melhores filmes e séries\n"
     ]
    }
   ],
   "source": [
    "driver.get(\"https://www.imdb.com\")\n",
    "print(driver.title)"
   ]
  },
  {
   "cell_type": "code",
   "execution_count": 24,
   "metadata": {},
   "outputs": [],
   "source": [
    "menu = driver.find_element(By.XPATH,r'//*[@id=\"imdbHeader-navDrawerOpen\"]') "
   ]
  },
  {
   "cell_type": "code",
   "execution_count": 25,
   "metadata": {},
   "outputs": [
    {
     "name": "stdout",
     "output_type": "stream",
     "text": [
      "<class 'selenium.webdriver.remote.webelement.WebElement'>\n"
     ]
    }
   ],
   "source": [
    "print(type(menu))"
   ]
  },
  {
   "cell_type": "code",
   "execution_count": 26,
   "metadata": {},
   "outputs": [],
   "source": [
    "menu.click()"
   ]
  },
  {
   "cell_type": "code",
   "execution_count": 27,
   "metadata": {},
   "outputs": [],
   "source": [
    "link_calendar = driver.find_element(By.LINK_TEXT, r'Calendário de lançamento')"
   ]
  },
  {
   "cell_type": "code",
   "execution_count": 28,
   "metadata": {},
   "outputs": [
    {
     "name": "stdout",
     "output_type": "stream",
     "text": [
      "<class 'selenium.webdriver.remote.webelement.WebElement'>\n",
      "a\n"
     ]
    }
   ],
   "source": [
    "print(type(link_calendar))\n",
    "print(link_calendar.tag_name)"
   ]
  },
  {
   "cell_type": "code",
   "execution_count": 30,
   "metadata": {},
   "outputs": [
    {
     "name": "stdout",
     "output_type": "stream",
     "text": [
      "https://www.imdb.com/calendar/?ref_=nv_mv_cal\n"
     ]
    }
   ],
   "source": [
    "url = link_calendar.get_attribute(\"href\")\n",
    "print(url)"
   ]
  },
  {
   "cell_type": "code",
   "execution_count": 31,
   "metadata": {},
   "outputs": [],
   "source": [
    "driver.get(url)"
   ]
  },
  {
   "cell_type": "code",
   "execution_count": 32,
   "metadata": {},
   "outputs": [],
   "source": [
    "tag_ul = driver.find_elements(By.CLASS_NAME, 'ipc-metadata-list-summary-item')\n"
   ]
  },
  {
   "cell_type": "code",
   "execution_count": 12,
   "metadata": {},
   "outputs": [
    {
     "name": "stdout",
     "output_type": "stream",
     "text": [
      "<class 'list'>\n"
     ]
    }
   ],
   "source": [
    "print(type(tag_ul))"
   ]
  },
  {
   "cell_type": "code",
   "execution_count": 48,
   "metadata": {},
   "outputs": [
    {
     "name": "stdout",
     "output_type": "stream",
     "text": [
      "Longlegs: Vínculo Mortal (2024)\n",
      "AfrAId (2024)\n",
      "Sting: Aranha Assassina (2024)\n",
      "A Caça (2024)\n",
      "Estômago II: O Poderoso Chef (2024)\n",
      "Cidade; Campo (2024)\n",
      "Os Fantasmas Ainda se Divertem - Beetlejuice Beetlejuice (2024)\n",
      "Kill - O Massacre no Trem (2023)\n",
      "O Menino e o Mestre (2023)\n",
      "Corrida Maluca (2023)\n",
      "Vovó Ninja (2024)\n",
      "Não Fale o Mal (2024)\n",
      "Transformers: O Início (2024)\n",
      "Meu Amigo Pinguim (2024)\n",
      "O Bastardo (2023)\n",
      "Ligação Sombria (2023)\n",
      "Silvio (2024)\n",
      "Un silence (2023)\n",
      "Meu Casulo de Drywall (2023)\n",
      "A Forja: O Poder da Transformação (2024)\n",
      "Hellboy e o Homem Torto (2024)\n",
      "Golpe de Sorte em Paris (2023)\n",
      "Passagrana (2024)\n",
      "Saudade fez Morada aqui Dentro (2022)\n",
      "Robô Selvagem (2024)\n",
      "Coringa: Delírio a Dois (2024)\n",
      "Não Solte! (2024)\n",
      "Infestação (2023)\n",
      "A Garota da Vez (2023)\n",
      "Pássaro Branco: Uma História de Extraordinário (2023)\n",
      "A Menina e o Dragão (2024)\n",
      "Força Bruta: Sem Saída (2023)\n",
      "Tudo Por Um Pop Star 2 (2024)\n",
      "Sorria 2 (2024)\n",
      "O Aprendiz (2024)\n",
      "Super/Man: A História de Christopher Reeve (2024)\n",
      "Perfekta: Uma Aventura da Escola de Gênios (2024)\n",
      "Venom: A Última Rodada (2024)\n",
      "Ainda Somos os Mesmos (2024)\n",
      "Megalópolis (2024)\n",
      "Terrifier 3 (2024)\n",
      "Todo Tempo que Temos (2024)\n",
      "Anora (2024)\n",
      "Ameaça no Ar (2024)\n",
      "Lubo (2023)\n",
      "A Vilã das Nove (2024)\n",
      "Arca de Noé (2024)\n",
      "Inexplicável (2024)\n",
      "Gladiador II (2024)\n",
      "As Polacas (2023)\n",
      "Herege (2024)\n",
      "Moana 2 (2024)\n",
      "Wicked (2024)\n",
      "Here (2024)\n",
      "A Complete Unknown (2024)\n",
      "O Conde de Monte Cristo (2024)\n",
      "Conclave (2024)\n",
      "In the Lost Lands (2024)\n",
      "O Senhor dos Anéis: A Guerra dos Rohirrim (2024)\n",
      "Kraven, o Caçador (2024)\n",
      "Mufasa: O Rei Leão (2024)\n",
      "Lee (2023)\n",
      "O Auto da Compadecida 2 (2024)\n",
      "Chico Bento e a Goiabeira Maraviósa (2025)\n",
      "Babygirl (2024)\n",
      "Paddington 3 (2024)\n",
      "Armored (2024)\n",
      "MMA: Meu Melhor Amigo (2025)\n",
      "A Verdadeira Dor (2024)\n",
      "Mickey 17 (2025)\n",
      "Emilia Pérez (2024)\n",
      "Capitão América: Admirável Mundo Novo (2025)\n",
      "O Macaco (2025)\n",
      "Novocaine (2025)\n",
      "Branca de Neve (2025)\n",
      "Amateur (2025)\n",
      "Michael (2025)\n",
      "Thunderbolts* (2025)\n",
      "Missão: Impossível 8 (2025)\n",
      "Karate Kid (2025)\n",
      "F1 (2025)\n",
      "Animal Friends (2025)\n"
     ]
    }
   ],
   "source": [
    "for movie in tag_ul:\n",
    "    print(movie.find_element(By.CLASS_NAME, 'ipc-metadata-list-summary-item__t').text)"
   ]
  },
  {
   "cell_type": "code",
   "execution_count": 49,
   "metadata": {},
   "outputs": [],
   "source": [
    "def extract_titulos(movie):\n",
    "    title_element = movie.find_element(By.CSS_SELECTOR, 'a.ipc-metadata-list-summary-item__t')\n",
    "    return title_element.text\n",
    "\n",
    "def extract_data_lancamento(section):\n",
    "    return section.find_element(By.CSS_SELECTOR, 'h3.ipc-title__text').text\n",
    "\n",
    "def extract_generos(movie):\n",
    "    genres = movie.find_elements(By.CSS_SELECTOR, 'ul.ipc-inline-list--show-dividers.ipc-metadata-list-summary-item__tl li')\n",
    "    return [genre.text for genre in genres]\n",
    "\n",
    "def extract_links(movie):\n",
    "    title_element = movie.find_element(By.CSS_SELECTOR, 'a.ipc-metadata-list-summary-item__t')\n",
    "    return title_element.get_attribute('href')\n"
   ]
  },
  {
   "cell_type": "code",
   "execution_count": 51,
   "metadata": {},
   "outputs": [],
   "source": [
    "def extract_movies_info():\n",
    "    movies_list = []\n",
    "\n",
    "    # Encontrar todas as seções de lançamento\n",
    "    sections = driver.find_elements(By.CSS_SELECTOR, 'article[data-testid=\"calendar-section\"]')\n",
    "    \n",
    "    for section in sections:\n",
    "        # Extrair a data da seção\n",
    "        date = extract_data_lancamento(section)\n",
    "        \n",
    "        # Encontrar todos os filmes na seção\n",
    "        movies = section.find_elements(By.CSS_SELECTOR, 'li[data-testid=\"coming-soon-entry\"]')\n",
    "        \n",
    "        for movie in movies:\n",
    "            movie_info = {}\n",
    "            movie_info['Título'] = extract_titulos(movie)\n",
    "            movie_info['Link'] = extract_links(movie)\n",
    "            movie_info['Gêneros'] = extract_generos(movie)\n",
    "            movie_info['Data de lançamento'] = date\n",
    "            \n",
    "            movies_list.append(movie_info)\n",
    "    \n",
    "    return movies_list"
   ]
  },
  {
   "cell_type": "code",
   "execution_count": 52,
   "metadata": {},
   "outputs": [
    {
     "data": {
      "text/html": [
       "<div>\n",
       "<style scoped>\n",
       "    .dataframe tbody tr th:only-of-type {\n",
       "        vertical-align: middle;\n",
       "    }\n",
       "\n",
       "    .dataframe tbody tr th {\n",
       "        vertical-align: top;\n",
       "    }\n",
       "\n",
       "    .dataframe thead th {\n",
       "        text-align: right;\n",
       "    }\n",
       "</style>\n",
       "<table border=\"1\" class=\"dataframe\">\n",
       "  <thead>\n",
       "    <tr style=\"text-align: right;\">\n",
       "      <th></th>\n",
       "      <th>Título</th>\n",
       "      <th>Link</th>\n",
       "      <th>Gêneros</th>\n",
       "      <th>Data de lançamento</th>\n",
       "    </tr>\n",
       "  </thead>\n",
       "  <tbody>\n",
       "    <tr>\n",
       "      <th>0</th>\n",
       "      <td>Longlegs: Vínculo Mortal (2024)</td>\n",
       "      <td>https://www.imdb.com/title/tt23468450/?ref_=rlm</td>\n",
       "      <td>[Policial, Terror, Suspense]</td>\n",
       "      <td>29 de ago. de 2024</td>\n",
       "    </tr>\n",
       "    <tr>\n",
       "      <th>1</th>\n",
       "      <td>AfrAId (2024)</td>\n",
       "      <td>https://www.imdb.com/title/tt24577462/?ref_=rlm</td>\n",
       "      <td>[Terror, Mistério, Ficção científica]</td>\n",
       "      <td>29 de ago. de 2024</td>\n",
       "    </tr>\n",
       "    <tr>\n",
       "      <th>2</th>\n",
       "      <td>Sting: Aranha Assassina (2024)</td>\n",
       "      <td>https://www.imdb.com/title/tt20112746/?ref_=rlm</td>\n",
       "      <td>[Terror, Ficção científica, Suspense]</td>\n",
       "      <td>29 de ago. de 2024</td>\n",
       "    </tr>\n",
       "    <tr>\n",
       "      <th>3</th>\n",
       "      <td>A Caça (2024)</td>\n",
       "      <td>https://www.imdb.com/title/tt22493538/?ref_=rlm</td>\n",
       "      <td>[Terror, Suspense]</td>\n",
       "      <td>29 de ago. de 2024</td>\n",
       "    </tr>\n",
       "    <tr>\n",
       "      <th>4</th>\n",
       "      <td>Estômago II: O Poderoso Chef (2024)</td>\n",
       "      <td>https://www.imdb.com/title/tt28281591/?ref_=rlm</td>\n",
       "      <td>[Comédia, Policial, Drama]</td>\n",
       "      <td>29 de ago. de 2024</td>\n",
       "    </tr>\n",
       "    <tr>\n",
       "      <th>...</th>\n",
       "      <td>...</td>\n",
       "      <td>...</td>\n",
       "      <td>...</td>\n",
       "      <td>...</td>\n",
       "    </tr>\n",
       "    <tr>\n",
       "      <th>77</th>\n",
       "      <td>Thunderbolts* (2025)</td>\n",
       "      <td>https://www.imdb.com/title/tt20969586/?ref_=rlm</td>\n",
       "      <td>[Ação, Aventura, Policial]</td>\n",
       "      <td>02 de mai. de 2025</td>\n",
       "    </tr>\n",
       "    <tr>\n",
       "      <th>78</th>\n",
       "      <td>Missão: Impossível 8 (2025)</td>\n",
       "      <td>https://www.imdb.com/title/tt9603208/?ref_=rlm</td>\n",
       "      <td>[Ação, Aventura, Suspense]</td>\n",
       "      <td>22 de mai. de 2025</td>\n",
       "    </tr>\n",
       "    <tr>\n",
       "      <th>79</th>\n",
       "      <td>Karate Kid (2025)</td>\n",
       "      <td>https://www.imdb.com/title/tt1674782/?ref_=rlm</td>\n",
       "      <td>[Ação, Drama, Família]</td>\n",
       "      <td>30 de mai. de 2025</td>\n",
       "    </tr>\n",
       "    <tr>\n",
       "      <th>80</th>\n",
       "      <td>F1 (2025)</td>\n",
       "      <td>https://www.imdb.com/title/tt16311594/?ref_=rlm</td>\n",
       "      <td>[Drama, Esportes]</td>\n",
       "      <td>26 de jun. de 2025</td>\n",
       "    </tr>\n",
       "    <tr>\n",
       "      <th>81</th>\n",
       "      <td>Animal Friends (2025)</td>\n",
       "      <td>https://www.imdb.com/title/tt16911616/?ref_=rlm</td>\n",
       "      <td>[Animação, Ação, Aventura]</td>\n",
       "      <td>14 de ago. de 2025</td>\n",
       "    </tr>\n",
       "  </tbody>\n",
       "</table>\n",
       "<p>82 rows × 4 columns</p>\n",
       "</div>"
      ],
      "text/plain": [
       "                                 Título  \\\n",
       "0       Longlegs: Vínculo Mortal (2024)   \n",
       "1                         AfrAId (2024)   \n",
       "2        Sting: Aranha Assassina (2024)   \n",
       "3                         A Caça (2024)   \n",
       "4   Estômago II: O Poderoso Chef (2024)   \n",
       "..                                  ...   \n",
       "77                 Thunderbolts* (2025)   \n",
       "78          Missão: Impossível 8 (2025)   \n",
       "79                    Karate Kid (2025)   \n",
       "80                            F1 (2025)   \n",
       "81                Animal Friends (2025)   \n",
       "\n",
       "                                               Link  \\\n",
       "0   https://www.imdb.com/title/tt23468450/?ref_=rlm   \n",
       "1   https://www.imdb.com/title/tt24577462/?ref_=rlm   \n",
       "2   https://www.imdb.com/title/tt20112746/?ref_=rlm   \n",
       "3   https://www.imdb.com/title/tt22493538/?ref_=rlm   \n",
       "4   https://www.imdb.com/title/tt28281591/?ref_=rlm   \n",
       "..                                              ...   \n",
       "77  https://www.imdb.com/title/tt20969586/?ref_=rlm   \n",
       "78   https://www.imdb.com/title/tt9603208/?ref_=rlm   \n",
       "79   https://www.imdb.com/title/tt1674782/?ref_=rlm   \n",
       "80  https://www.imdb.com/title/tt16311594/?ref_=rlm   \n",
       "81  https://www.imdb.com/title/tt16911616/?ref_=rlm   \n",
       "\n",
       "                                  Gêneros  Data de lançamento  \n",
       "0            [Policial, Terror, Suspense]  29 de ago. de 2024  \n",
       "1   [Terror, Mistério, Ficção científica]  29 de ago. de 2024  \n",
       "2   [Terror, Ficção científica, Suspense]  29 de ago. de 2024  \n",
       "3                      [Terror, Suspense]  29 de ago. de 2024  \n",
       "4              [Comédia, Policial, Drama]  29 de ago. de 2024  \n",
       "..                                    ...                 ...  \n",
       "77             [Ação, Aventura, Policial]  02 de mai. de 2025  \n",
       "78             [Ação, Aventura, Suspense]  22 de mai. de 2025  \n",
       "79                 [Ação, Drama, Família]  30 de mai. de 2025  \n",
       "80                      [Drama, Esportes]  26 de jun. de 2025  \n",
       "81             [Animação, Ação, Aventura]  14 de ago. de 2025  \n",
       "\n",
       "[82 rows x 4 columns]"
      ]
     },
     "metadata": {},
     "output_type": "display_data"
    }
   ],
   "source": [
    "import pandas as pd\n",
    "\n",
    "dados_dos_filmes = extract_movies_info()\n",
    "\n",
    "df = pd.DataFrame(dados_dos_filmes)\n",
    "\n",
    "display(df)\n",
    "\n"
   ]
  },
  {
   "cell_type": "code",
   "execution_count": 61,
   "metadata": {},
   "outputs": [
    {
     "ename": "TypeError",
     "evalue": "'WebElement' object is not iterable",
     "output_type": "error",
     "traceback": [
      "\u001b[1;31m---------------------------------------------------------------------------\u001b[0m",
      "\u001b[1;31mTypeError\u001b[0m                                 Traceback (most recent call last)",
      "Cell \u001b[1;32mIn[61], line 1\u001b[0m\n\u001b[1;32m----> 1\u001b[0m \u001b[38;5;28;01mfor\u001b[39;00m movies \u001b[38;5;129;01min\u001b[39;00m movie:\n\u001b[0;32m      2\u001b[0m     \u001b[38;5;28mprint\u001b[39m(movies\u001b[38;5;241m.\u001b[39mfind_element(By\u001b[38;5;241m.\u001b[39mCLASS_NAME, \u001b[38;5;124m'\u001b[39m\u001b[38;5;124mipc-metadata-list-summary-item__t\u001b[39m\u001b[38;5;124m'\u001b[39m)\u001b[38;5;241m.\u001b[39mtext)\n",
      "\u001b[1;31mTypeError\u001b[0m: 'WebElement' object is not iterable"
     ]
    }
   ],
   "source": []
  },
  {
   "cell_type": "code",
   "execution_count": null,
   "metadata": {},
   "outputs": [],
   "source": []
  },
  {
   "cell_type": "code",
   "execution_count": null,
   "metadata": {},
   "outputs": [],
   "source": []
  }
 ],
 "metadata": {
  "kernelspec": {
   "display_name": "Python 3",
   "language": "python",
   "name": "python3"
  },
  "language_info": {
   "codemirror_mode": {
    "name": "ipython",
    "version": 3
   },
   "file_extension": ".py",
   "mimetype": "text/x-python",
   "name": "python",
   "nbconvert_exporter": "python",
   "pygments_lexer": "ipython3",
   "version": "3.12.5"
  }
 },
 "nbformat": 4,
 "nbformat_minor": 2
}
